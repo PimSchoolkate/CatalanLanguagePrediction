{
 "cells": [
  {
   "cell_type": "code",
   "execution_count": 7,
   "metadata": {},
   "outputs": [],
   "source": [
    "import requests\n",
    "import json"
   ]
  },
  {
   "cell_type": "code",
   "execution_count": 12,
   "metadata": {},
   "outputs": [],
   "source": [
    "response = requests.get(\"https://api.idescat.cat/emex/v1/dades.json\")"
   ]
  },
  {
   "cell_type": "code",
   "execution_count": 15,
   "metadata": {},
   "outputs": [],
   "source": [
    "import pandas as pd\n",
    "df = pd.json_normalize(response.json())"
   ]
  },
  {
   "cell_type": "code",
   "execution_count": 16,
   "metadata": {},
   "outputs": [
    {
     "data": {
      "text/html": [
       "<div>\n",
       "<style scoped>\n",
       "    .dataframe tbody tr th:only-of-type {\n",
       "        vertical-align: middle;\n",
       "    }\n",
       "\n",
       "    .dataframe tbody tr th {\n",
       "        vertical-align: top;\n",
       "    }\n",
       "\n",
       "    .dataframe thead th {\n",
       "        text-align: right;\n",
       "    }\n",
       "</style>\n",
       "<table border=\"1\" class=\"dataframe\">\n",
       "  <thead>\n",
       "    <tr style=\"text-align: right;\">\n",
       "      <th></th>\n",
       "      <th>fitxes.p</th>\n",
       "      <th>fitxes.indicadors</th>\n",
       "      <th>fitxes.lang</th>\n",
       "      <th>fitxes.version</th>\n",
       "      <th>fitxes.cols.col</th>\n",
       "      <th>fitxes.n</th>\n",
       "      <th>fitxes.o</th>\n",
       "    </tr>\n",
       "  </thead>\n",
       "  <tbody>\n",
       "    <tr>\n",
       "      <th>0</th>\n",
       "      <td>tipus=cat,com,mun</td>\n",
       "      <td></td>\n",
       "      <td>ca</td>\n",
       "      <td>1.00</td>\n",
       "      <td>[{'scheme': 'mun', 'id': '250019', 'content': ...</td>\n",
       "      <td>0</td>\n",
       "      <td>dades</td>\n",
       "    </tr>\n",
       "  </tbody>\n",
       "</table>\n",
       "</div>"
      ],
      "text/plain": [
       "            fitxes.p fitxes.indicadors fitxes.lang fitxes.version  \\\n",
       "0  tipus=cat,com,mun                            ca           1.00   \n",
       "\n",
       "                                     fitxes.cols.col fitxes.n fitxes.o  \n",
       "0  [{'scheme': 'mun', 'id': '250019', 'content': ...        0    dades  "
      ]
     },
     "execution_count": 16,
     "metadata": {},
     "output_type": "execute_result"
    }
   ],
   "source": [
    "df.head()"
   ]
  },
  {
   "cell_type": "code",
   "execution_count": 18,
   "metadata": {},
   "outputs": [
    {
     "data": {
      "text/html": [
       "<div>\n",
       "<style scoped>\n",
       "    .dataframe tbody tr th:only-of-type {\n",
       "        vertical-align: middle;\n",
       "    }\n",
       "\n",
       "    .dataframe tbody tr th {\n",
       "        vertical-align: top;\n",
       "    }\n",
       "\n",
       "    .dataframe thead th {\n",
       "        text-align: right;\n",
       "    }\n",
       "</style>\n",
       "<table border=\"1\" class=\"dataframe\">\n",
       "  <thead>\n",
       "    <tr style=\"text-align: right;\">\n",
       "      <th></th>\n",
       "      <th>0</th>\n",
       "      <th>1</th>\n",
       "      <th>2</th>\n",
       "      <th>3</th>\n",
       "      <th>4</th>\n",
       "      <th>5</th>\n",
       "      <th>6</th>\n",
       "      <th>7</th>\n",
       "      <th>8</th>\n",
       "      <th>9</th>\n",
       "      <th>...</th>\n",
       "      <th>980</th>\n",
       "      <th>981</th>\n",
       "      <th>982</th>\n",
       "      <th>983</th>\n",
       "      <th>984</th>\n",
       "      <th>985</th>\n",
       "      <th>986</th>\n",
       "      <th>987</th>\n",
       "      <th>988</th>\n",
       "      <th>989</th>\n",
       "    </tr>\n",
       "  </thead>\n",
       "  <tbody>\n",
       "    <tr>\n",
       "      <th>0</th>\n",
       "      <td>{'scheme': 'mun', 'id': '250019', 'content': '...</td>\n",
       "      <td>{'scheme': 'mun', 'id': '080018', 'content': '...</td>\n",
       "      <td>{'scheme': 'mun', 'id': '250024', 'content': '...</td>\n",
       "      <td>{'scheme': 'mun', 'id': '250030', 'content': '...</td>\n",
       "      <td>{'scheme': 'mun', 'id': '080023', 'content': '...</td>\n",
       "      <td>{'scheme': 'mun', 'id': '170010', 'content': '...</td>\n",
       "      <td>{'scheme': 'mun', 'id': '080142', 'content': '...</td>\n",
       "      <td>{'scheme': 'mun', 'id': '430017', 'content': '...</td>\n",
       "      <td>{'scheme': 'mun', 'id': '170025', 'content': '...</td>\n",
       "      <td>{'scheme': 'mun', 'id': '250387', 'content': '...</td>\n",
       "      <td>...</td>\n",
       "      <td>{'scheme': 'com', 'id': '34', 'content': 'Selva'}</td>\n",
       "      <td>{'scheme': 'com', 'id': '35', 'content': 'Sols...</td>\n",
       "      <td>{'scheme': 'com', 'id': '36', 'content': 'Tarr...</td>\n",
       "      <td>{'scheme': 'com', 'id': '37', 'content': 'Terr...</td>\n",
       "      <td>{'scheme': 'com', 'id': '38', 'content': 'Urge...</td>\n",
       "      <td>{'scheme': 'com', 'id': '39', 'content': 'Aran'}</td>\n",
       "      <td>{'scheme': 'com', 'id': '40', 'content': 'Vall...</td>\n",
       "      <td>{'scheme': 'com', 'id': '41', 'content': 'Vall...</td>\n",
       "      <td>{'scheme': 'com', 'id': '42', 'content': 'Moia...</td>\n",
       "      <td>{'scheme': 'ca', 'id': '09', 'content': 'Catal...</td>\n",
       "    </tr>\n",
       "  </tbody>\n",
       "</table>\n",
       "<p>1 rows × 990 columns</p>\n",
       "</div>"
      ],
      "text/plain": [
       "                                                 0    \\\n",
       "0  {'scheme': 'mun', 'id': '250019', 'content': '...   \n",
       "\n",
       "                                                 1    \\\n",
       "0  {'scheme': 'mun', 'id': '080018', 'content': '...   \n",
       "\n",
       "                                                 2    \\\n",
       "0  {'scheme': 'mun', 'id': '250024', 'content': '...   \n",
       "\n",
       "                                                 3    \\\n",
       "0  {'scheme': 'mun', 'id': '250030', 'content': '...   \n",
       "\n",
       "                                                 4    \\\n",
       "0  {'scheme': 'mun', 'id': '080023', 'content': '...   \n",
       "\n",
       "                                                 5    \\\n",
       "0  {'scheme': 'mun', 'id': '170010', 'content': '...   \n",
       "\n",
       "                                                 6    \\\n",
       "0  {'scheme': 'mun', 'id': '080142', 'content': '...   \n",
       "\n",
       "                                                 7    \\\n",
       "0  {'scheme': 'mun', 'id': '430017', 'content': '...   \n",
       "\n",
       "                                                 8    \\\n",
       "0  {'scheme': 'mun', 'id': '170025', 'content': '...   \n",
       "\n",
       "                                                 9    ...  \\\n",
       "0  {'scheme': 'mun', 'id': '250387', 'content': '...  ...   \n",
       "\n",
       "                                                 980  \\\n",
       "0  {'scheme': 'com', 'id': '34', 'content': 'Selva'}   \n",
       "\n",
       "                                                 981  \\\n",
       "0  {'scheme': 'com', 'id': '35', 'content': 'Sols...   \n",
       "\n",
       "                                                 982  \\\n",
       "0  {'scheme': 'com', 'id': '36', 'content': 'Tarr...   \n",
       "\n",
       "                                                 983  \\\n",
       "0  {'scheme': 'com', 'id': '37', 'content': 'Terr...   \n",
       "\n",
       "                                                 984  \\\n",
       "0  {'scheme': 'com', 'id': '38', 'content': 'Urge...   \n",
       "\n",
       "                                                985  \\\n",
       "0  {'scheme': 'com', 'id': '39', 'content': 'Aran'}   \n",
       "\n",
       "                                                 986  \\\n",
       "0  {'scheme': 'com', 'id': '40', 'content': 'Vall...   \n",
       "\n",
       "                                                 987  \\\n",
       "0  {'scheme': 'com', 'id': '41', 'content': 'Vall...   \n",
       "\n",
       "                                                 988  \\\n",
       "0  {'scheme': 'com', 'id': '42', 'content': 'Moia...   \n",
       "\n",
       "                                                 989  \n",
       "0  {'scheme': 'ca', 'id': '09', 'content': 'Catal...  \n",
       "\n",
       "[1 rows x 990 columns]"
      ]
     },
     "execution_count": 18,
     "metadata": {},
     "output_type": "execute_result"
    }
   ],
   "source": [
    "pd.json_normalize(df['fitxes.cols.col'])"
   ]
  },
  {
   "cell_type": "code",
   "execution_count": 21,
   "metadata": {},
   "outputs": [],
   "source": [
    "js = response.json()"
   ]
  },
  {
   "cell_type": "code",
   "execution_count": 23,
   "metadata": {},
   "outputs": [
    {
     "data": {
      "text/plain": [
       "dict_keys(['fitxes'])"
      ]
     },
     "execution_count": 23,
     "metadata": {},
     "output_type": "execute_result"
    }
   ],
   "source": [
    "js.keys()"
   ]
  },
  {
   "cell_type": "code",
   "execution_count": 33,
   "metadata": {},
   "outputs": [
    {
     "data": {
      "text/plain": [
       "dict_keys(['scheme', 'id', 'content'])"
      ]
     },
     "execution_count": 33,
     "metadata": {},
     "output_type": "execute_result"
    }
   ],
   "source": [
    "js['fitxes']['cols']['col'][1].keys()"
   ]
  }
 ],
 "metadata": {
  "interpreter": {
   "hash": "fe5cedfcb5d2ed2fabebe13918fcd224b55eff004bf79e43e1907e8ef83a95e3"
  },
  "kernelspec": {
   "display_name": "Python 3.9.10 ('ml')",
   "language": "python",
   "name": "python3"
  },
  "language_info": {
   "codemirror_mode": {
    "name": "ipython",
    "version": 3
   },
   "file_extension": ".py",
   "mimetype": "text/x-python",
   "name": "python",
   "nbconvert_exporter": "python",
   "pygments_lexer": "ipython3",
   "version": "3.9.10"
  },
  "orig_nbformat": 4
 },
 "nbformat": 4,
 "nbformat_minor": 2
}
