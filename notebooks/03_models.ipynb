{
 "cells": [
  {
   "cell_type": "code",
   "execution_count": 122,
   "metadata": {},
   "outputs": [],
   "source": [
    "# Ignore dumb warning through the iterations\n",
    "def warn(*args, **kwargs):\n",
    "    pass\n",
    "import warnings\n",
    "warnings.warn = warn\n",
    "\n",
    "# General libraries\n",
    "import numpy as np\n",
    "import seaborn as sns\n",
    "import pandas as pd\n",
    "import time\n",
    "import matplotlib.pyplot as plt\n",
    "import joblib\n",
    "\n",
    "# Scikit learn libraries\n",
    "from sklearn.model_selection import train_test_split\n",
    "from sklearn.model_selection import GridSearchCV, RandomizedSearchCV, RepeatedStratifiedKFold\n",
    "from sklearn.metrics import confusion_matrix, f1_score\n",
    "\n",
    "# Classifiers\n",
    "from sklearn.linear_model import LogisticRegression, SGDClassifier\n",
    "from sklearn.discriminant_analysis import LinearDiscriminantAnalysis, QuadraticDiscriminantAnalysis\n",
    "from sklearn.naive_bayes import GaussianNB\n",
    "\n",
    "from sklearn.neighbors import KNeighborsClassifier\n",
    "from sklearn.tree import DecisionTreeClassifier, ExtraTreeClassifier\n",
    "from sklearn.ensemble import RandomForestClassifier, VotingClassifier, GradientBoostingClassifier, StackingClassifier, ExtraTreesClassifier, RandomForestClassifier\n",
    "from sklearn.svm import SVC"
   ]
  },
  {
   "cell_type": "markdown",
   "metadata": {},
   "source": [
    "LDA\n",
    "QDA"
   ]
  },
  {
   "cell_type": "code",
   "execution_count": 123,
   "metadata": {},
   "outputs": [
    {
     "data": {
      "text/html": [
       "<div>\n",
       "<style scoped>\n",
       "    .dataframe tbody tr th:only-of-type {\n",
       "        vertical-align: middle;\n",
       "    }\n",
       "\n",
       "    .dataframe tbody tr th {\n",
       "        vertical-align: top;\n",
       "    }\n",
       "\n",
       "    .dataframe thead th {\n",
       "        text-align: right;\n",
       "    }\n",
       "</style>\n",
       "<table border=\"1\" class=\"dataframe\">\n",
       "  <thead>\n",
       "    <tr style=\"text-align: right;\">\n",
       "      <th></th>\n",
       "      <th>culture_knowledge_of_catalan_speak</th>\n",
       "      <th>population_population_by_sex_total</th>\n",
       "    </tr>\n",
       "  </thead>\n",
       "  <tbody>\n",
       "    <tr>\n",
       "      <th>culture_knowledge_of_catalan_speak</th>\n",
       "      <td>1.000000</td>\n",
       "      <td>-0.187062</td>\n",
       "    </tr>\n",
       "    <tr>\n",
       "      <th>population_population_by_sex_total</th>\n",
       "      <td>-0.187062</td>\n",
       "      <td>1.000000</td>\n",
       "    </tr>\n",
       "  </tbody>\n",
       "</table>\n",
       "</div>"
      ],
      "text/plain": [
       "                                    culture_knowledge_of_catalan_speak  \\\n",
       "culture_knowledge_of_catalan_speak                            1.000000   \n",
       "population_population_by_sex_total                           -0.187062   \n",
       "\n",
       "                                    population_population_by_sex_total  \n",
       "culture_knowledge_of_catalan_speak                           -0.187062  \n",
       "population_population_by_sex_total                            1.000000  "
      ]
     },
     "execution_count": 123,
     "metadata": {},
     "output_type": "execute_result"
    }
   ],
   "source": [
    "aux = pd.read_csv('../data/clean_data.csv', index_col='Municipality')\n",
    "aux[['culture_knowledge_of_catalan_speak', 'population_population_by_sex_total']].corr()"
   ]
  },
  {
   "cell_type": "code",
   "execution_count": 124,
   "metadata": {},
   "outputs": [
    {
     "data": {
      "image/png": "[encoded data removed]",
      "text/plain": [
       "<Figure size 581.25x360 with 1 Axes>"
      ]
     },
     "metadata": {
      "needs_background": "light"
     },
     "output_type": "display_data"
    }
   ],
   "source": [
    "# Get data\n",
    "df = pd.read_csv('../data/clean_data.csv', index_col='Municipality')\n",
    "dg = pd.read_csv('../data/model_data.csv', index_col='Municipality')\n",
    "# dg.head()\n",
    "\n",
    "# Get proper label\n",
    "labels = df.filter(like='catalan')\n",
    "label = df.filter(like='catalan').filter(like='speak')\n",
    "df = df.loc[:, ~df.columns.isin(labels.columns)]\n",
    "\n",
    "data = label.join(dg, on='Municipality')\n",
    "# data.head()\n",
    "\n",
    "# Get trainin data and label\n",
    "label = data['culture_knowledge_of_catalan_speak'].to_frame()\n",
    "data = data.drop(['culture_knowledge_of_catalan_speak'], axis=1)\n",
    "\n",
    "sns.displot(label)\n",
    "\n",
    "label[:] = pd.qcut(label['culture_knowledge_of_catalan_speak'], q=4, labels=[0,1,2,3])\n",
    "label[label['culture_knowledge_of_catalan_speak'] == 2] = 1\n",
    "label[label['culture_knowledge_of_catalan_speak'] == 3] = 2"
   ]
  },
  {
   "cell_type": "code",
   "execution_count": 125,
   "metadata": {},
   "outputs": [],
   "source": [
    "X_train, X_test, y_train, y_test = train_test_split(data, label, test_size=0.33, stratify=label, random_state=42)"
   ]
  },
  {
   "cell_type": "markdown",
   "metadata": {},
   "source": [
    "Linear Discriminant Analysis"
   ]
  },
  {
   "cell_type": "code",
   "execution_count": 126,
   "metadata": {},
   "outputs": [
    {
     "name": "stdout",
     "output_type": "stream",
     "text": [
      "Best Score: 0.6652096667787754\n",
      "Best Hyperparameters: {'solver': 'svd'}\n",
      "Time: 0.23299169540405273\n"
     ]
    }
   ],
   "source": [
    "start_time = time.time()\n",
    "model = LinearDiscriminantAnalysis()\n",
    "\n",
    "cv = RepeatedStratifiedKFold(n_splits=10, n_repeats=3, random_state=42)\n",
    "\n",
    "random_grid = [\n",
    "    {'solver': ['svd']},\n",
    "    {'solver': ['lsqr', 'eigen'], 'shrinkage': [np.arange(0, 1, 0.01)]}\n",
    "]\n",
    "\n",
    "search = RandomizedSearchCV(model, random_grid, n_iter=500, scoring='f1_weighted', n_jobs=-1, cv=cv, random_state=42)\n",
    "\n",
    "result = search.fit(X_train, y_train.values.ravel())\n",
    "print('Best Score: %s' % result.best_score_)\n",
    "print('Best Hyperparameters: %s' % result.best_params_)\n",
    "\n",
    "elapsed_time = time.time() - start_time\n",
    "print('Time:', elapsed_time)"
   ]
  },
  {
   "cell_type": "code",
   "execution_count": 127,
   "metadata": {},
   "outputs": [
    {
     "data": {
      "text/plain": [
       "['../pickles/search_lda.pkl']"
      ]
     },
     "execution_count": 127,
     "metadata": {},
     "output_type": "execute_result"
    }
   ],
   "source": [
    "joblib.dump(search, '../pickles/search_lda.pkl')"
   ]
  },
  {
   "cell_type": "code",
   "execution_count": 128,
   "metadata": {},
   "outputs": [
    {
     "name": "stdout",
     "output_type": "stream",
     "text": [
      "Best Score: 0.6610645701576462\n",
      "Best Hyperparameters: {'reg_param': 0.91}\n",
      "Time: 4.4155683517456055\n"
     ]
    }
   ],
   "source": [
    "start_time = time.time()\n",
    "model = QuadraticDiscriminantAnalysis()\n",
    "\n",
    "cv = RepeatedStratifiedKFold(n_splits=10, n_repeats=3, random_state=42)\n",
    "\n",
    "random_grid = {\n",
    "    'reg_param': np.arange(0, 1, 0.01)\n",
    "}\n",
    "\n",
    "search = RandomizedSearchCV(model, random_grid, n_iter=500, scoring='f1_weighted', n_jobs=-1, cv=cv, random_state=42)\n",
    "\n",
    "result = search.fit(X_train, y_train.values.ravel())\n",
    "print('Best Score: %s' % result.best_score_)\n",
    "print('Best Hyperparameters: %s' % result.best_params_)\n",
    "\n",
    "elapsed_time = time.time() - start_time\n",
    "print('Time:', elapsed_time)"
   ]
  },
  {
   "cell_type": "code",
   "execution_count": 129,
   "metadata": {},
   "outputs": [
    {
     "data": {
      "text/plain": [
       "['../pickles/search_qda.pkl']"
      ]
     },
     "execution_count": 129,
     "metadata": {},
     "output_type": "execute_result"
    }
   ],
   "source": [
    "joblib.dump(search, '../pickles/search_qda.pkl')"
   ]
  },
  {
   "cell_type": "code",
   "execution_count": 130,
   "metadata": {},
   "outputs": [
    {
     "name": "stdout",
     "output_type": "stream",
     "text": [
      "Best Score: 0.6412616022017837\n",
      "Best Hyperparameters: {'var_smoothing': 0.001}\n",
      "Time: 0.2135024070739746\n"
     ]
    }
   ],
   "source": [
    "start_time = time.time()\n",
    "model = GaussianNB()\n",
    "\n",
    "cv = RepeatedStratifiedKFold(n_splits=10, n_repeats=3, random_state=42)\n",
    "\n",
    "random_grid = {\n",
    "    'var_smoothing': [1e-9, 1e-7, 1e-3]\n",
    "}\n",
    "\n",
    "search = RandomizedSearchCV(model, random_grid, n_iter=500, scoring='f1_weighted', n_jobs=-1, cv=cv, random_state=42)\n",
    "\n",
    "result = search.fit(X_train, y_train.values.ravel())\n",
    "print('Best Score: %s' % result.best_score_)\n",
    "print('Best Hyperparameters: %s' % result.best_params_)\n",
    "\n",
    "elapsed_time = time.time() - start_time\n",
    "print('Time:', elapsed_time)"
   ]
  },
  {
   "cell_type": "code",
   "execution_count": 131,
   "metadata": {},
   "outputs": [
    {
     "data": {
      "text/plain": [
       "['../pickles/search_gaus.pkl']"
      ]
     },
     "execution_count": 131,
     "metadata": {},
     "output_type": "execute_result"
    }
   ],
   "source": [
    "joblib.dump(search, '../pickles/search_gaus.pkl')"
   ]
  },
  {
   "cell_type": "markdown",
   "metadata": {},
   "source": [
    "Logistic Regression"
   ]
  },
  {
   "cell_type": "code",
   "execution_count": 132,
   "metadata": {},
   "outputs": [
    {
     "name": "stdout",
     "output_type": "stream",
     "text": [
      "Best Score: 0.6714406385465467\n",
      "Best Hyperparameters: {'C': 0.10325142852622374, 'class_weight': None, 'penalty': 'l2', 'solver': 'newton-cg'}\n",
      "Time: 136.4034080505371\n"
     ]
    }
   ],
   "source": [
    "from scipy.stats import loguniform\n",
    "\n",
    "start_time = time.time()\n",
    "model = LogisticRegression(random_state=42, max_iter=500)\n",
    "\n",
    "cv = RepeatedStratifiedKFold(n_splits=10, n_repeats=3, random_state=42)\n",
    "\n",
    "random_grid = [\n",
    "    {'solver': ['newton-cg'], 'penalty': ['l2'], 'C': loguniform(1e-1, 100), 'class_weight': [None, 'balanced']},\n",
    "    {'solver': ['lbfgs'], 'penalty': ['l2'], 'C': loguniform(1e-1, 100), 'class_weight': [None, 'balanced']},\n",
    "    {'solver': ['liblinear'], 'penalty': ['l1', 'l2'], 'C': loguniform(1e-1, 100), 'class_weight': [None, 'balanced']}\n",
    "    # {'solver': ['saga'], 'penalty': ['elasticnet', 'l1', 'l2', 'none'], 'C': loguniform(1e-3, 100), 'class_weight': [None, 'balanced']}\n",
    "]\n",
    "\n",
    "search = RandomizedSearchCV(model, random_grid, n_iter=500, scoring='f1_weighted', n_jobs=-1, cv=cv, random_state=42)\n",
    "\n",
    "result = search.fit(X_train, y_train.values.ravel())\n",
    "print('Best Score: %s' % result.best_score_)\n",
    "print('Best Hyperparameters: %s' % result.best_params_)\n",
    "\n",
    "elapsed_time = time.time() - start_time\n",
    "print('Time:', elapsed_time)"
   ]
  },
  {
   "cell_type": "code",
   "execution_count": 133,
   "metadata": {},
   "outputs": [
    {
     "data": {
      "text/plain": [
       "['../pickles/search_lr.pkl']"
      ]
     },
     "execution_count": 133,
     "metadata": {},
     "output_type": "execute_result"
    }
   ],
   "source": [
    "joblib.dump(search, '../pickles/search_lr.pkl')"
   ]
  },
  {
   "cell_type": "code",
   "execution_count": 134,
   "metadata": {},
   "outputs": [],
   "source": [
    "# def plot_grid_results(grid):\n",
    "#     import pandas as pd\n",
    "    \n",
    "#     data = pd.DataFrame(grid.cv_results_).filter(regex=r'mean_test_score|std_test_score|param_')\n",
    "#     return data \n",
    "\n",
    "# df = plot_grid_results(search)\n",
    "# df.head()"
   ]
  },
  {
   "cell_type": "code",
   "execution_count": 135,
   "metadata": {},
   "outputs": [],
   "source": [
    "# sns.lineplot(x='param_C', y='mean_test_score', hue='param_penalty', data=df)"
   ]
  },
  {
   "cell_type": "code",
   "execution_count": 136,
   "metadata": {},
   "outputs": [
    {
     "name": "stdout",
     "output_type": "stream",
     "text": [
      "Best Score: 0.6663216971978735\n",
      "Best Hyperparameters: {'penalty': 'elasticnet', 'loss': 'log', 'l1_ratio': 0.2, 'class_weight': None, 'alpha': 0.01}\n",
      "Time: 34.313310384750366\n"
     ]
    }
   ],
   "source": [
    "start_time = time.time()\n",
    "model = SGDClassifier(random_state=42)\n",
    "\n",
    "cv = RepeatedStratifiedKFold(n_splits=10, n_repeats=3, random_state=42)\n",
    "\n",
    "random_grid = {\n",
    "    'loss': ['log', 'hinge', 'perceptron'],\n",
    "    'penalty': ['elasticnet', 'l2'],\n",
    "    'alpha': [10 ** x for x in range(-6, 1)],\n",
    "    'l1_ratio': [0, 0.05, 0.1, 0.2, 0.5, 0.8, 0.9, 0.95, 1],\n",
    "    'class_weight': [None, 'Balanced']\n",
    "}\n",
    "\n",
    "search = RandomizedSearchCV(model, random_grid, n_iter=500, scoring='f1_weighted', n_jobs=-1, cv=cv, random_state=42)\n",
    "\n",
    "result = search.fit(X_train, y_train.values.ravel())\n",
    "print('Best Score: %s' % result.best_score_)\n",
    "print('Best Hyperparameters: %s' % result.best_params_)\n",
    "\n",
    "elapsed_time = time.time() - start_time\n",
    "print('Time:', elapsed_time)"
   ]
  },
  {
   "cell_type": "code",
   "execution_count": 137,
   "metadata": {},
   "outputs": [
    {
     "data": {
      "text/plain": [
       "['../pickles/search_sgd.pkl']"
      ]
     },
     "execution_count": 137,
     "metadata": {},
     "output_type": "execute_result"
    }
   ],
   "source": [
    "joblib.dump(search, '../pickles/search_sgd.pkl')"
   ]
  },
  {
   "cell_type": "code",
   "execution_count": 138,
   "metadata": {},
   "outputs": [
    {
     "name": "stdout",
     "output_type": "stream",
     "text": [
      "Best Score: 0.6509785894398326\n",
      "Best Hyperparameters: {'weights': 'distance', 'n_neighbors': 24, 'algorithm': 'auto'}\n",
      "Time: 2.987490653991699\n"
     ]
    }
   ],
   "source": [
    "start_time = time.time()\n",
    "model = KNeighborsClassifier()\n",
    "\n",
    "cv = RepeatedStratifiedKFold(n_splits=10, n_repeats=3, random_state=42)\n",
    "\n",
    "random_grid = {\n",
    "    'n_neighbors': range(2, 30, 2),\n",
    "    'weights': ['uniform', 'distance'],\n",
    "    'algorithm': ['auto', 'kd_tree']\n",
    "}\n",
    "\n",
    "search = RandomizedSearchCV(model, random_grid, n_iter=500, scoring='f1_weighted', n_jobs=-1, cv=cv, random_state=42)\n",
    "\n",
    "result = search.fit(X_train, y_train.values.ravel())\n",
    "print('Best Score: %s' % result.best_score_)\n",
    "print('Best Hyperparameters: %s' % result.best_params_)\n",
    "\n",
    "elapsed_time = time.time() - start_time\n",
    "print('Time:', elapsed_time)"
   ]
  },
  {
   "cell_type": "code",
   "execution_count": 139,
   "metadata": {},
   "outputs": [
    {
     "data": {
      "text/plain": [
       "['../pickles/search_knn.pkl']"
      ]
     },
     "execution_count": 139,
     "metadata": {},
     "output_type": "execute_result"
    }
   ],
   "source": [
    "joblib.dump(search, '../pickles/search_knn.pkl')"
   ]
  },
  {
   "cell_type": "code",
   "execution_count": 140,
   "metadata": {},
   "outputs": [
    {
     "name": "stdout",
     "output_type": "stream",
     "text": [
      "Best Score: 0.593880038555827\n",
      "Best Hyperparameters: {'max_depth': 4, 'criterion': 'gini'}\n",
      "Time: 4.30318021774292\n"
     ]
    }
   ],
   "source": [
    "start_time = time.time()\n",
    "model = DecisionTreeClassifier(random_state=42)\n",
    "\n",
    "cv = RepeatedStratifiedKFold(n_splits=10, n_repeats=3, random_state=42)\n",
    "\n",
    "random_grid = {\n",
    "    'criterion':['gini','entropy'],\n",
    "    'max_depth':[4,5,6,7,8,9,10,11,12,15,20,30,40,50,70,90,120,150]\n",
    "}\n",
    "\n",
    "search = RandomizedSearchCV(model, random_grid, n_iter=500, scoring='f1_weighted', n_jobs=-1, cv=cv, random_state=42)\n",
    "\n",
    "result = search.fit(X_train, y_train.values.ravel())\n",
    "print('Best Score: %s' % result.best_score_)\n",
    "print('Best Hyperparameters: %s' % result.best_params_)\n",
    "\n",
    "elapsed_time = time.time() - start_time\n",
    "print('Time:', elapsed_time)"
   ]
  },
  {
   "cell_type": "code",
   "execution_count": 141,
   "metadata": {},
   "outputs": [
    {
     "data": {
      "text/plain": [
       "['../pickles/search_dt.pkl']"
      ]
     },
     "execution_count": 141,
     "metadata": {},
     "output_type": "execute_result"
    }
   ],
   "source": [
    "joblib.dump(search, '../pickles/search_dt.pkl')"
   ]
  },
  {
   "cell_type": "code",
   "execution_count": 142,
   "metadata": {},
   "outputs": [
    {
     "name": "stdout",
     "output_type": "stream",
     "text": [
      "Best Score: 0.6399660566235884\n",
      "Best Hyperparameters: {'n_estimators': 1000, 'min_samples_split': 2, 'min_samples_leaf': 2, 'max_features': 'sqrt', 'max_depth': 60, 'bootstrap': True}\n",
      "Time: 503.83829736709595\n"
     ]
    }
   ],
   "source": [
    "start_time = time.time()\n",
    "model = RandomForestClassifier(oob_score=True, random_state=42)\n",
    "\n",
    "cv = RepeatedStratifiedKFold(n_splits=10, n_repeats=3, random_state=42)\n",
    "\n",
    "random_grid = {\n",
    "    'n_estimators': [int(x) for x in np.linspace(start = 200, stop = 2000, num = 10)],\n",
    "    'max_features': ['auto', 'sqrt'],\n",
    "    'max_depth': [int(x) for x in np.linspace(10, 110, num = 11)] + [None],\n",
    "    'min_samples_split': [2, 5, 10],\n",
    "    'min_samples_leaf': [1, 2, 4],\n",
    "    'bootstrap': [True, False]\n",
    "}\n",
    "\n",
    "search = RandomizedSearchCV(model, random_grid, n_iter=50, scoring='f1_weighted', n_jobs=-1, cv=cv, random_state=42)\n",
    "\n",
    "result = search.fit(X_train, y_train.values.ravel())\n",
    "print('Best Score: %s' % result.best_score_)\n",
    "print('Best Hyperparameters: %s' % result.best_params_)\n",
    "\n",
    "elapsed_time = time.time() - start_time\n",
    "print('Time:', elapsed_time)"
   ]
  },
  {
   "cell_type": "code",
   "execution_count": 143,
   "metadata": {},
   "outputs": [
    {
     "data": {
      "text/plain": [
       "['../pickles/search_rf.pkl']"
      ]
     },
     "execution_count": 143,
     "metadata": {},
     "output_type": "execute_result"
    }
   ],
   "source": [
    "joblib.dump(search, '../pickles/search_rf.pkl')"
   ]
  },
  {
   "cell_type": "code",
   "execution_count": 145,
   "metadata": {},
   "outputs": [
    {
     "name": "stdout",
     "output_type": "stream",
     "text": [
      "Best Score: 0.6715789998536166\n",
      "Best Hyperparameters: {'kernel': 'rbf', 'gamma': 0.001, 'decision_function_shape': 'ovo', 'class_weight': None, 'C': 10}\n",
      "Time: 10.077317714691162\n"
     ]
    }
   ],
   "source": [
    "start_time = time.time()\n",
    "model = SVC(random_state=42, probability=True)\n",
    "\n",
    "cv = RepeatedStratifiedKFold(n_splits=10, n_repeats=3, random_state=42)\n",
    "\n",
    "random_grid = [\n",
    "    {'kernel': ['rbf'], 'gamma': [1e-3, 1e-4], 'C': [1, 10, 100, 1000], 'class_weight': [None, 'balanced'], 'decision_function_shape': ['ovr', 'ovo']},\n",
    "    {'kernel': ['linear'], 'C': [1, 10, 100, 1000], 'class_weight': [None, 'balanced'], 'decision_function_shape': ['ovr', 'ovo']},\n",
    "    {'kernel': ['sigmoid'], 'gamma': [1e-3, 1e-4], 'C': [1, 10, 100, 1000], 'class_weight': [None, 'balanced'], 'decision_function_shape': ['ovr', 'ovo']}\n",
    "]\n",
    "\n",
    "search = RandomizedSearchCV(model, random_grid, n_iter=10, scoring='f1_weighted', n_jobs=-1, cv=cv, random_state=42)\n",
    "\n",
    "result = search.fit(X_train, y_train.values.ravel())\n",
    "print('Best Score: %s' % result.best_score_)\n",
    "print('Best Hyperparameters: %s' % result.best_params_)\n",
    "\n",
    "elapsed_time = time.time() - start_time\n",
    "print('Time:', elapsed_time)"
   ]
  },
  {
   "cell_type": "code",
   "execution_count": 153,
   "metadata": {},
   "outputs": [
    {
     "data": {
      "text/plain": [
       "['../pickles/search_svm.pkl']"
      ]
     },
     "execution_count": 153,
     "metadata": {},
     "output_type": "execute_result"
    }
   ],
   "source": [
    "joblib.dump(search, '../pickles/search_svm.pkl')"
   ]
  },
  {
   "cell_type": "markdown",
   "metadata": {},
   "source": [
    "---"
   ]
  },
  {
   "cell_type": "code",
   "execution_count": 154,
   "metadata": {},
   "outputs": [],
   "source": [
    "import joblib\n",
    "\n",
    "search_lda = joblib.load('../pickles/search_lda.pkl')\n",
    "search_qda = joblib.load('../pickles/search_qda.pkl')\n",
    "search_gaus = joblib.load('../pickles/search_gaus.pkl')\n",
    "search_lr = joblib.load('../pickles/search_lr.pkl')\n",
    "search_sgd = joblib.load('../pickles/search_sgd.pkl')\n",
    "search_knn = joblib.load('../pickles/search_knn.pkl')\n",
    "search_dt = joblib.load('../pickles/search_dt.pkl')\n",
    "search_rf = joblib.load('../pickles/search_rf.pkl')\n",
    "search_svm = joblib.load('../pickles/search_svm.pkl')"
   ]
  },
  {
   "cell_type": "code",
   "execution_count": 160,
   "metadata": {},
   "outputs": [],
   "source": [
    "best_lda = LinearDiscriminantAnalysis(**search_lda.best_params_)\n",
    "best_qda = QuadraticDiscriminantAnalysis(**search_qda.best_params_)\n",
    "best_gaus = GaussianNB(**search_gaus.best_params_)\n",
    "best_lr = LogisticRegression(**search_lr.best_params_, random_state=42)\n",
    "best_sgd = SGDClassifier(**search_sgd.best_params_, random_state=42)\n",
    "best_knn = KNeighborsClassifier(**search_knn.best_params_)\n",
    "best_dt = DecisionTreeClassifier(**search_dt.best_params_, random_state=42)\n",
    "best_rf = RandomForestClassifier(**search_rf.best_params_, random_state=42)\n",
    "best_svm = SVC(**search_svm.best_params_, random_state=42, probability=True)"
   ]
  },
  {
   "cell_type": "code",
   "execution_count": null,
   "metadata": {},
   "outputs": [
    {
     "data": {
      "text/plain": [
       "SVC(C=100, gamma=0.001, kernel='sigmoid', random_state=42)"
      ]
     },
     "execution_count": 39,
     "metadata": {},
     "output_type": "execute_result"
    }
   ],
   "source": [
    "# best_lda.fit(X_train, y_train.values.ravel())\n",
    "# best_qda.fit(X_train, y_train.values.ravel())\n",
    "# best_gaus.fit(X_train, y_train.values.ravel())\n",
    "# best_lr.fit(X_train, y_train.values.ravel())\n",
    "# best_sgd.fit(X_train, y_train.values.ravel())\n",
    "# best_knn.fit(X_train, y_train.values.ravel())\n",
    "# best_dt.fit(X_train, y_train.values.ravel())\n",
    "# best_rf.fit(X_train, y_train.values.ravel())\n",
    "# best_svm.fit(X_train, y_train.values.ravel())"
   ]
  },
  {
   "cell_type": "code",
   "execution_count": 173,
   "metadata": {},
   "outputs": [],
   "source": [
    "voting_hard = VotingClassifier([('lda', best_lda), \n",
    "                                ('qda', best_qda),\n",
    "                                ('gaus', best_gaus),\n",
    "                                ('lr', best_lr),\n",
    "                                ('sgd', best_sgd),\n",
    "                                ('knn', best_knn),\n",
    "                                ('dt', best_dt),\n",
    "                                ('rf', best_rf),\n",
    "                                ('svm', best_svm),\n",
    "])"
   ]
  },
  {
   "cell_type": "code",
   "execution_count": 162,
   "metadata": {},
   "outputs": [
    {
     "data": {
      "text/plain": [
       "0.6710325713221884"
      ]
     },
     "execution_count": 162,
     "metadata": {},
     "output_type": "execute_result"
    }
   ],
   "source": [
    "from sklearn.metrics import f1_score\n",
    "from sklearn.model_selection import cross_val_score\n",
    "\n",
    "scores = cross_val_score(voting_hard, X_train, y_train.values.ravel(), cv=10, n_jobs=-1, scoring='f1_weighted')\n",
    "scores.mean()"
   ]
  },
  {
   "cell_type": "code",
   "execution_count": 163,
   "metadata": {},
   "outputs": [],
   "source": [
    "voting_soft = VotingClassifier([('lda', best_lda), \n",
    "                                ('qda', best_lda),\n",
    "                                ('gaus', best_gaus),\n",
    "                                ('lr', best_lr),\n",
    "                                ('sgd', best_sgd),\n",
    "                                ('knn', best_knn),\n",
    "                                ('dt', best_dt),\n",
    "                                ('rf', best_rf),\n",
    "                                ('svm', best_svm)\n",
    "], voting='soft')"
   ]
  },
  {
   "cell_type": "code",
   "execution_count": 164,
   "metadata": {},
   "outputs": [
    {
     "data": {
      "text/plain": [
       "0.6574083254388418"
      ]
     },
     "execution_count": 164,
     "metadata": {},
     "output_type": "execute_result"
    }
   ],
   "source": [
    "scores = cross_val_score(voting_soft, X_train, y_train.values.ravel(), cv=10, n_jobs=-1, scoring='f1_weighted')\n",
    "scores.mean()"
   ]
  },
  {
   "cell_type": "code",
   "execution_count": 170,
   "metadata": {},
   "outputs": [
    {
     "data": {
      "text/plain": [
       "'soft'"
      ]
     },
     "execution_count": 170,
     "metadata": {},
     "output_type": "execute_result"
    }
   ],
   "source": [
    "voting_soft.get_params()['voting']"
   ]
  },
  {
   "cell_type": "code",
   "execution_count": 180,
   "metadata": {},
   "outputs": [],
   "source": [
    "from sklearn.model_selection import cross_validate\n",
    "\n",
    "results = pd.DataFrame(columns=['Accuracy', 'F1-score (Micro)', 'F1-score (Macro)', 'F1-score (Weighted)'])\n",
    "\n",
    "models = [best_lda, best_qda, best_gaus, best_lr, best_sgd, best_knn, best_dt, best_rf, best_svm, voting_hard, voting_soft]\n",
    "\n",
    "def compute_results(models=models):\n",
    "    for model in models:\n",
    "        name = type(model).__name__\n",
    "        name = ''.join([c for c in name if c.isupper()])\n",
    "        if name == 'VC':\n",
    "            name = name + model.get_params()['voting'][0]\n",
    "            \n",
    "        scores = cross_validate(model, X_train, y_train.values.ravel(), cv=10, scoring=('accuracy', 'f1_micro', 'f1_macro', 'f1_weighted'))\n",
    "        results.loc[name, 'Accuracy'] = scores['test_accuracy'].mean()\n",
    "        results.loc[name, 'F1-score (Micro)'] = scores['test_f1_micro'].mean()\n",
    "        results.loc[name, 'F1-score (Macro)'] = scores['test_f1_macro'].mean()\n",
    "        results.loc[name, 'F1-score (Weighted)'] = scores['test_f1_weighted'].mean()\n",
    "        \n",
    "    return results\n",
    "\n",
    "results = compute_results()"
   ]
  },
  {
   "cell_type": "code",
   "execution_count": 181,
   "metadata": {},
   "outputs": [
    {
     "data": {
      "text/html": [
       "<div>\n",
       "<style scoped>\n",
       "    .dataframe tbody tr th:only-of-type {\n",
       "        vertical-align: middle;\n",
       "    }\n",
       "\n",
       "    .dataframe tbody tr th {\n",
       "        vertical-align: top;\n",
       "    }\n",
       "\n",
       "    .dataframe thead th {\n",
       "        text-align: right;\n",
       "    }\n",
       "</style>\n",
       "<table border=\"1\" class=\"dataframe\">\n",
       "  <thead>\n",
       "    <tr style=\"text-align: right;\">\n",
       "      <th></th>\n",
       "      <th>Accuracy</th>\n",
       "      <th>F1-score (Micro)</th>\n",
       "      <th>F1-score (Macro)</th>\n",
       "      <th>F1-score (Weighted)</th>\n",
       "    </tr>\n",
       "  </thead>\n",
       "  <tbody>\n",
       "    <tr>\n",
       "      <th>DTC</th>\n",
       "      <td>0.609968</td>\n",
       "      <td>0.609968</td>\n",
       "      <td>0.536517</td>\n",
       "      <td>0.575517</td>\n",
       "    </tr>\n",
       "    <tr>\n",
       "      <th>GNB</th>\n",
       "      <td>0.640931</td>\n",
       "      <td>0.640931</td>\n",
       "      <td>0.620046</td>\n",
       "      <td>0.638207</td>\n",
       "    </tr>\n",
       "    <tr>\n",
       "      <th>KNC</th>\n",
       "      <td>0.676626</td>\n",
       "      <td>0.676626</td>\n",
       "      <td>0.616758</td>\n",
       "      <td>0.646893</td>\n",
       "    </tr>\n",
       "    <tr>\n",
       "      <th>RFC</th>\n",
       "      <td>0.660338</td>\n",
       "      <td>0.660338</td>\n",
       "      <td>0.625195</td>\n",
       "      <td>0.647224</td>\n",
       "    </tr>\n",
       "    <tr>\n",
       "      <th>LDA</th>\n",
       "      <td>0.658752</td>\n",
       "      <td>0.658752</td>\n",
       "      <td>0.637555</td>\n",
       "      <td>0.652669</td>\n",
       "    </tr>\n",
       "    <tr>\n",
       "      <th>QDA</th>\n",
       "      <td>0.655368</td>\n",
       "      <td>0.655368</td>\n",
       "      <td>0.659447</td>\n",
       "      <td>0.653933</td>\n",
       "    </tr>\n",
       "    <tr>\n",
       "      <th>VCs</th>\n",
       "      <td>0.666869</td>\n",
       "      <td>0.666869</td>\n",
       "      <td>0.639412</td>\n",
       "      <td>0.657408</td>\n",
       "    </tr>\n",
       "    <tr>\n",
       "      <th>LR</th>\n",
       "      <td>0.663538</td>\n",
       "      <td>0.663538</td>\n",
       "      <td>0.648386</td>\n",
       "      <td>0.659541</td>\n",
       "    </tr>\n",
       "    <tr>\n",
       "      <th>SGDC</th>\n",
       "      <td>0.668403</td>\n",
       "      <td>0.668403</td>\n",
       "      <td>0.646441</td>\n",
       "      <td>0.661013</td>\n",
       "    </tr>\n",
       "    <tr>\n",
       "      <th>VCh</th>\n",
       "      <td>0.678265</td>\n",
       "      <td>0.678265</td>\n",
       "      <td>0.655551</td>\n",
       "      <td>0.671033</td>\n",
       "    </tr>\n",
       "    <tr>\n",
       "      <th>SVC</th>\n",
       "      <td>0.682998</td>\n",
       "      <td>0.682998</td>\n",
       "      <td>0.66131</td>\n",
       "      <td>0.676365</td>\n",
       "    </tr>\n",
       "  </tbody>\n",
       "</table>\n",
       "</div>"
      ],
      "text/plain": [
       "      Accuracy F1-score (Micro) F1-score (Macro) F1-score (Weighted)\n",
       "DTC   0.609968         0.609968         0.536517            0.575517\n",
       "GNB   0.640931         0.640931         0.620046            0.638207\n",
       "KNC   0.676626         0.676626         0.616758            0.646893\n",
       "RFC   0.660338         0.660338         0.625195            0.647224\n",
       "LDA   0.658752         0.658752         0.637555            0.652669\n",
       "QDA   0.655368         0.655368         0.659447            0.653933\n",
       "VCs   0.666869         0.666869         0.639412            0.657408\n",
       "LR    0.663538         0.663538         0.648386            0.659541\n",
       "SGDC  0.668403         0.668403         0.646441            0.661013\n",
       "VCh   0.678265         0.678265         0.655551            0.671033\n",
       "SVC   0.682998         0.682998          0.66131            0.676365"
      ]
     },
     "execution_count": 181,
     "metadata": {},
     "output_type": "execute_result"
    }
   ],
   "source": [
    "results.sort_values(by='F1-score (Weighted)')"
   ]
  },
  {
   "cell_type": "code",
   "execution_count": 210,
   "metadata": {},
   "outputs": [],
   "source": [
    "voting_best = VotingClassifier([('sgd', best_sgd),\n",
    "                                ('lr', best_lr),\n",
    "                                ('qda', best_qda),\n",
    "                                ('lda', best_lda),\n",
    "                                ('knn', best_knn)\n",
    "], voting='soft')\n",
    "\n",
    "scores = cross_validate(voting_best, X_train, y_train.values.ravel(), cv=10, scoring=('accuracy', 'f1_micro', 'f1_macro', 'f1_weighted'))\n",
    "results.loc['VCb', 'Accuracy'] = scores['test_accuracy'].mean()\n",
    "results.loc['VCb', 'F1-score (Micro)'] = scores['test_f1_micro'].mean()\n",
    "results.loc['VCb', 'F1-score (Macro)'] = scores['test_f1_macro'].mean()\n",
    "results.loc['VCb', 'F1-score (Weighted)'] = scores['test_f1_weighted'].mean()"
   ]
  },
  {
   "cell_type": "code",
   "execution_count": 213,
   "metadata": {},
   "outputs": [
    {
     "data": {
      "text/html": [
       "<div>\n",
       "<style scoped>\n",
       "    .dataframe tbody tr th:only-of-type {\n",
       "        vertical-align: middle;\n",
       "    }\n",
       "\n",
       "    .dataframe tbody tr th {\n",
       "        vertical-align: top;\n",
       "    }\n",
       "\n",
       "    .dataframe thead th {\n",
       "        text-align: right;\n",
       "    }\n",
       "</style>\n",
       "<table border=\"1\" class=\"dataframe\">\n",
       "  <thead>\n",
       "    <tr style=\"text-align: right;\">\n",
       "      <th></th>\n",
       "      <th>Accuracy</th>\n",
       "      <th>F1-score (Micro)</th>\n",
       "      <th>F1-score (Macro)</th>\n",
       "      <th>F1-score (Weighted)</th>\n",
       "    </tr>\n",
       "  </thead>\n",
       "  <tbody>\n",
       "    <tr>\n",
       "      <th>DTC</th>\n",
       "      <td>0.609968</td>\n",
       "      <td>0.609968</td>\n",
       "      <td>0.536517</td>\n",
       "      <td>0.575517</td>\n",
       "    </tr>\n",
       "    <tr>\n",
       "      <th>GNB</th>\n",
       "      <td>0.640931</td>\n",
       "      <td>0.640931</td>\n",
       "      <td>0.620046</td>\n",
       "      <td>0.638207</td>\n",
       "    </tr>\n",
       "    <tr>\n",
       "      <th>KNC</th>\n",
       "      <td>0.676626</td>\n",
       "      <td>0.676626</td>\n",
       "      <td>0.616758</td>\n",
       "      <td>0.646893</td>\n",
       "    </tr>\n",
       "    <tr>\n",
       "      <th>RFC</th>\n",
       "      <td>0.660338</td>\n",
       "      <td>0.660338</td>\n",
       "      <td>0.625195</td>\n",
       "      <td>0.647224</td>\n",
       "    </tr>\n",
       "    <tr>\n",
       "      <th>LDA</th>\n",
       "      <td>0.658752</td>\n",
       "      <td>0.658752</td>\n",
       "      <td>0.637555</td>\n",
       "      <td>0.652669</td>\n",
       "    </tr>\n",
       "    <tr>\n",
       "      <th>QDA</th>\n",
       "      <td>0.655368</td>\n",
       "      <td>0.655368</td>\n",
       "      <td>0.659447</td>\n",
       "      <td>0.653933</td>\n",
       "    </tr>\n",
       "    <tr>\n",
       "      <th>VCs</th>\n",
       "      <td>0.666869</td>\n",
       "      <td>0.666869</td>\n",
       "      <td>0.639412</td>\n",
       "      <td>0.657408</td>\n",
       "    </tr>\n",
       "    <tr>\n",
       "      <th>LR</th>\n",
       "      <td>0.663538</td>\n",
       "      <td>0.663538</td>\n",
       "      <td>0.648386</td>\n",
       "      <td>0.659541</td>\n",
       "    </tr>\n",
       "    <tr>\n",
       "      <th>SGDC</th>\n",
       "      <td>0.668403</td>\n",
       "      <td>0.668403</td>\n",
       "      <td>0.646441</td>\n",
       "      <td>0.661013</td>\n",
       "    </tr>\n",
       "    <tr>\n",
       "      <th>VCh</th>\n",
       "      <td>0.678265</td>\n",
       "      <td>0.678265</td>\n",
       "      <td>0.655551</td>\n",
       "      <td>0.671033</td>\n",
       "    </tr>\n",
       "    <tr>\n",
       "      <th>SVC</th>\n",
       "      <td>0.682998</td>\n",
       "      <td>0.682998</td>\n",
       "      <td>0.66131</td>\n",
       "      <td>0.676365</td>\n",
       "    </tr>\n",
       "    <tr>\n",
       "      <th>VCb</th>\n",
       "      <td>0.686304</td>\n",
       "      <td>0.686304</td>\n",
       "      <td>0.680588</td>\n",
       "      <td>0.686034</td>\n",
       "    </tr>\n",
       "  </tbody>\n",
       "</table>\n",
       "</div>"
      ],
      "text/plain": [
       "      Accuracy F1-score (Micro) F1-score (Macro) F1-score (Weighted)\n",
       "DTC   0.609968         0.609968         0.536517            0.575517\n",
       "GNB   0.640931         0.640931         0.620046            0.638207\n",
       "KNC   0.676626         0.676626         0.616758            0.646893\n",
       "RFC   0.660338         0.660338         0.625195            0.647224\n",
       "LDA   0.658752         0.658752         0.637555            0.652669\n",
       "QDA   0.655368         0.655368         0.659447            0.653933\n",
       "VCs   0.666869         0.666869         0.639412            0.657408\n",
       "LR    0.663538         0.663538         0.648386            0.659541\n",
       "SGDC  0.668403         0.668403         0.646441            0.661013\n",
       "VCh   0.678265         0.678265         0.655551            0.671033\n",
       "SVC   0.682998         0.682998          0.66131            0.676365\n",
       "VCb   0.686304         0.686304         0.680588            0.686034"
      ]
     },
     "execution_count": 213,
     "metadata": {},
     "output_type": "execute_result"
    }
   ],
   "source": [
    "results.sort_values(by='F1-score (Weighted)')"
   ]
  },
  {
   "cell_type": "code",
   "execution_count": null,
   "metadata": {},
   "outputs": [],
   "source": []
  },
  {
   "cell_type": "code",
   "execution_count": null,
   "metadata": {},
   "outputs": [
    {
     "name": "stdout",
     "output_type": "stream",
     "text": [
      "[0.64534668 0.57600603 0.59635869 0.58405505 0.60876758 0.67035697\n",
      " 0.65677743 0.6667797  0.62427846 0.63503213]\n"
     ]
    },
    {
     "data": {
      "text/plain": [
       "0.6263758713435614"
      ]
     },
     "execution_count": 119,
     "metadata": {},
     "output_type": "execute_result"
    }
   ],
   "source": [
    "stacky = StackingClassifier(\n",
    "    estimators=[('svm', best_svm), \n",
    "                ('sgd', best_sgd),\n",
    "                ('lr', best_lr),\n",
    "                ('rf', best_rf),\n",
    "                                \n",
    "],\n",
    "    final_estimator=GradientBoostingClassifier())\n",
    "\n",
    "scores = cross_val_score(stacky, X_train, y_train.values.ravel(), cv=10, n_jobs=-1, scoring='f1_weighted')\n",
    "print(scores)\n",
    "scores.mean()"
   ]
  }
 ],
 "metadata": {
  "interpreter": {
   "hash": "fe5cedfcb5d2ed2fabebe13918fcd224b55eff004bf79e43e1907e8ef83a95e3"
  },
  "kernelspec": {
   "display_name": "Python 3.9.10 ('ml')",
   "language": "python",
   "name": "python3"
  },
  "language_info": {
   "codemirror_mode": {
    "name": "ipython",
    "version": 3
   },
   "file_extension": ".py",
   "mimetype": "text/x-python",
   "name": "python",
   "nbconvert_exporter": "python",
   "pygments_lexer": "ipython3",
   "version": "3.9.10"
  },
  "orig_nbformat": 4
 },
 "nbformat": 4,
 "nbformat_minor": 2
}
