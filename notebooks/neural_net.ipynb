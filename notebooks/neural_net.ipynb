{
 "cells": [
  {
   "cell_type": "code",
   "execution_count": null,
   "outputs": [],
   "source": [
    "from tensorflow.keras.layers import Input, Dense, Embedding, Conv1D, LeakyReLU, Flatten, Dropout\n",
    "from tensorflow.keras.models import Model\n",
    "\n",
    "from sklearn.model_selection import train_test_split\n",
    "from sklearn.neural_network import MLPClassifier\n",
    "from sklearn.metrics import f1_score\n",
    "import pandas as pd\n",
    "import numpy as np\n",
    "import seaborn as sns"
   ],
   "metadata": {
    "collapsed": false,
    "pycharm": {
     "name": "#%%\n"
    }
   }
  },
  {
   "cell_type": "code",
   "execution_count": null,
   "outputs": [],
   "source": [
    "df = pd.read_csv('../data/clean_data.csv', index_col='Municipality')\n",
    "\n",
    "# Get proper label\n",
    "labels = df.filter(like='catalan')\n",
    "label = df.filter(like='catalan').filter(like='total')\n",
    "\n",
    "data = df.drop(list(labels.columns), axis=1)"
   ],
   "metadata": {
    "collapsed": false,
    "pycharm": {
     "name": "#%%\n"
    }
   }
  },
  {
   "cell_type": "code",
   "execution_count": null,
   "outputs": [],
   "source": [
    "label[:] = pd.qcut(label['culture_knowledge_of_catalan_total'], q=4, labels=[0,1,2,3])\n",
    "# label[label['culture_knowledge_of_catalan_total'] == 2] = 1\n",
    "# label[label['culture_knowledge_of_catalan_total'] == 3] = 2"
   ],
   "metadata": {
    "collapsed": false,
    "pycharm": {
     "name": "#%%\n"
    }
   }
  },
  {
   "cell_type": "markdown",
   "source": [],
   "metadata": {
    "collapsed": false,
    "pycharm": {
     "name": "#%% md\n"
    }
   }
  },
  {
   "cell_type": "markdown",
   "source": [],
   "metadata": {
    "collapsed": false,
    "pycharm": {
     "name": "#%% md\n"
    }
   }
  },
  {
   "cell_type": "code",
   "execution_count": null,
   "outputs": [],
   "source": [
    "label_data = pd.get_dummies(label['culture_knowledge_of_catalan_total'])\n",
    "label_data_size = label_data.shape"
   ],
   "metadata": {
    "collapsed": false,
    "pycharm": {
     "name": "#%%\n"
    }
   }
  },
  {
   "cell_type": "code",
   "execution_count": null,
   "outputs": [],
   "source": [
    "data = data.drop(['missing_count'], axis=1)\n",
    "data['population_population_by_sex_main'] = pd.Categorical(data['population_population_by_sex_main'])\n",
    "data['population_population_by_sex_main'] = data['population_population_by_sex_main'].cat.codes.astype(float)\n",
    "\n",
    "data['economic_sectors_head_of_livestock_main'] = pd.Categorical(data['economic_sectors_head_of_livestock_main'])\n",
    "data['economic_sectors_head_of_livestock_main'] = data['economic_sectors_head_of_livestock_main'].cat.codes.astype(float)\n",
    "\n",
    "data['economic_sectors_cultivated_land_main'] = pd.Categorical(data['economic_sectors_cultivated_land_main'])\n",
    "data['economic_sectors_cultivated_land_main'] = data['economic_sectors_cultivated_land_main'].cat.codes.astype(float)\n",
    "\n",
    "data['culture_sports_facilities_main'] = pd.Categorical(data['culture_sports_facilities_main'])\n",
    "data['culture_sports_facilities_main'] = data['culture_sports_facilities_main'].cat.codes.astype(float)"
   ],
   "metadata": {
    "collapsed": false,
    "pycharm": {
     "name": "#%%\n"
    }
   }
  },
  {
   "cell_type": "code",
   "execution_count": null,
   "outputs": [],
   "source": [
    "def normalize(x):\n",
    "    return (x - x.min()) / (x.max() - x.min())"
   ],
   "metadata": {
    "collapsed": false,
    "pycharm": {
     "name": "#%%\n"
    }
   }
  },
  {
   "cell_type": "code",
   "execution_count": null,
   "outputs": [],
   "source": [
    "for col in data.columns:\n",
    "    data[col] = normalize(data[col])"
   ],
   "metadata": {
    "collapsed": false,
    "pycharm": {
     "name": "#%%\n"
    }
   }
  },
  {
   "cell_type": "code",
   "execution_count": null,
   "outputs": [],
   "source": [
    "train_x, test_x, train_y, test_y = train_test_split(data, label_data, test_size=0.2,random_state=42)\n",
    "train_x, val_x, train_y, val_y = train_test_split(train_x, train_y, test_size=0.2,random_state=42)"
   ],
   "metadata": {
    "collapsed": false,
    "pycharm": {
     "name": "#%%\n"
    }
   }
  },
  {
   "cell_type": "code",
   "execution_count": null,
   "outputs": [],
   "source": [
    "PARAMS = {'LAYERS': [[1],\n",
    "                     [10],\n",
    "                     [100],\n",
    "                     [100, 10]],\n",
    "          'ALPHA': [0.1,\n",
    "                    0.2,\n",
    "                    0.3,\n",
    "                    0.4],\n",
    "          'DROPOUT': [0.1,\n",
    "                      0.2,\n",
    "                      0.3,\n",
    "                      False],\n",
    "          'BATCH_SIZE': [10,\n",
    "                         20,\n",
    "                         30]}"
   ],
   "metadata": {
    "collapsed": false,
    "pycharm": {
     "name": "#%%\n"
    }
   }
  },
  {
   "cell_type": "code",
   "execution_count": null,
   "outputs": [],
   "source": [
    "DROPOUT = 0.1\n",
    "ALPHA = 0.1\n",
    "LAYERS = [100, 10]\n",
    "BATCH_SIZE = 10\n",
    "INPUT_SHAPE = data.shape[1]\n",
    "\n",
    "def build_model(layers, dropout, alpha):\n",
    "    inpt = Input(shape=INPUT_SHAPE)\n",
    "\n",
    "    x = Flatten()(inpt)\n",
    "\n",
    "    for layer in layers:\n",
    "        x = Dense(layer, activation=LeakyReLU(alpha=alpha))(x)\n",
    "        if dropout != False:\n",
    "            x = Dropout(dropout)(x)\n",
    "\n",
    "\n",
    "    out = Dense(4, activation=\"softmax\")(x)\n",
    "\n",
    "    model = Model(inpt, out)\n",
    "    model.compile(optimizer='adam',\n",
    "                  loss='categorical_crossentropy',\n",
    "                  metrics=[\"accuracy\"])\n",
    "\n",
    "    return model"
   ],
   "metadata": {
    "collapsed": false,
    "pycharm": {
     "name": "#%%\n"
    }
   }
  },
  {
   "cell_type": "code",
   "execution_count": null,
   "outputs": [],
   "source": [
    "m = build_model(LAYERS, DROPOUT, ALPHA)\n",
    "m.summary()\n",
    "m.fit(train_x, train_y, batch_size=BATCH_SIZE, validation_data=(val_x,val_y), epochs=100)"
   ],
   "metadata": {
    "collapsed": false,
    "pycharm": {
     "name": "#%%\n"
    }
   }
  },
  {
   "cell_type": "code",
   "execution_count": null,
   "outputs": [],
   "source": [
    "mlp = MLPClassifier(alpha=0,\n",
    "                           activation='logistic', max_iter=1000,\n",
    "                           solver='adam',random_state=42)\n",
    "mlp.fit(train_x,train_y)\n",
    "y_pred = mlp.predict(val_x)"
   ],
   "metadata": {
    "collapsed": false,
    "pycharm": {
     "name": "#%%\n"
    }
   }
  },
  {
   "cell_type": "code",
   "execution_count": null,
   "outputs": [],
   "source": [
    "def confusion_matrix(pred, true):\n",
    "    pred = pd.Series(np.argmax(pred, axis=1))\n",
    "    true = pd.Series(true.columns[np.where(true!=0)[1]])\n",
    "\n",
    "    true.name = 'target'\n",
    "    pred.name = 'predicted'\n",
    "    cm = pd.crosstab(true.reset_index(drop=True), pred.reset_index(drop=True))\n",
    "    cm = cm[cm.index]\n",
    "    return cm"
   ],
   "metadata": {
    "collapsed": false,
    "pycharm": {
     "name": "#%%\n"
    }
   }
  },
  {
   "cell_type": "code",
   "execution_count": null,
   "outputs": [],
   "source": [
    "confusion_matrix(y_pred, test_y)"
   ],
   "metadata": {
    "collapsed": false,
    "pycharm": {
     "name": "#%%\n"
    }
   }
  },
  {
   "cell_type": "code",
   "execution_count": null,
   "outputs": [],
   "source": [
    "pred = pd.Series(np.argmax(m.predict(test_x), axis=1))\n",
    "true = pd.Series(test_y.columns[np.where(test_y!=0)[1]])\n",
    "f1_score(list(true.values), list(pred.values), average=None)"
   ],
   "metadata": {
    "collapsed": false,
    "pycharm": {
     "name": "#%%\n"
    }
   }
  }
 ],
 "metadata": {
  "kernelspec": {
   "display_name": "Python 3",
   "language": "python",
   "name": "python3"
  },
  "language_info": {
   "codemirror_mode": {
    "name": "ipython",
    "version": 2
   },
   "file_extension": ".py",
   "mimetype": "text/x-python",
   "name": "python",
   "nbconvert_exporter": "python",
   "pygments_lexer": "ipython2",
   "version": "2.7.6"
  }
 },
 "nbformat": 4,
 "nbformat_minor": 0
}