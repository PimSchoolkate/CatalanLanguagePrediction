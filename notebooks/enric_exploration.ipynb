{
 "cells": [
  {
   "cell_type": "markdown",
   "metadata": {},
   "source": [
    "### Merge datasets"
   ]
  },
  {
   "cell_type": "code",
   "execution_count": 21,
   "metadata": {},
   "outputs": [],
   "source": [
    "import os\n",
    "import sys\n",
    "import pandas as pd\n",
    "\n",
    "\n",
    "data_path = os.path.join(os.getcwd(), '../data')\n",
    "src_path = os.path.join(os.getcwd(), '../src')\n",
    "sys.path.append(src_path)\n",
    "\n",
    "import utils"
   ]
  },
  {
   "cell_type": "code",
   "execution_count": 22,
   "metadata": {},
   "outputs": [],
   "source": [
    "df = pd.read_csv(os.path.join(data_path, 'cat_data.csv'))"
   ]
  },
  {
   "cell_type": "markdown",
   "metadata": {},
   "source": [
    "\n",
    "---"
   ]
  },
  {
   "cell_type": "markdown",
   "metadata": {},
   "source": [
    "### Collapse column names"
   ]
  },
  {
   "cell_type": "code",
   "execution_count": 23,
   "metadata": {},
   "outputs": [],
   "source": [
    "cols = list(df.columns)\n",
    "cols.sort()"
   ]
  },
  {
   "cell_type": "code",
   "execution_count": 24,
   "metadata": {},
   "outputs": [
    {
     "data": {
      "text/html": [
       "<div>\n",
       "<style scoped>\n",
       "    .dataframe tbody tr th:only-of-type {\n",
       "        vertical-align: middle;\n",
       "    }\n",
       "\n",
       "    .dataframe tbody tr th {\n",
       "        vertical-align: top;\n",
       "    }\n",
       "\n",
       "    .dataframe thead th {\n",
       "        text-align: right;\n",
       "    }\n",
       "</style>\n",
       "<table border=\"1\" class=\"dataframe\">\n",
       "  <thead>\n",
       "    <tr style=\"text-align: right;\">\n",
       "      <th></th>\n",
       "      <th>percent_missing</th>\n",
       "    </tr>\n",
       "  </thead>\n",
       "  <tbody>\n",
       "    <tr>\n",
       "      <th>count</th>\n",
       "      <td>235.000000</td>\n",
       "    </tr>\n",
       "    <tr>\n",
       "      <th>mean</th>\n",
       "      <td>20.897532</td>\n",
       "    </tr>\n",
       "    <tr>\n",
       "      <th>std</th>\n",
       "      <td>33.071179</td>\n",
       "    </tr>\n",
       "    <tr>\n",
       "      <th>min</th>\n",
       "      <td>0.000000</td>\n",
       "    </tr>\n",
       "    <tr>\n",
       "      <th>25%</th>\n",
       "      <td>0.000000</td>\n",
       "    </tr>\n",
       "    <tr>\n",
       "      <th>50%</th>\n",
       "      <td>0.202224</td>\n",
       "    </tr>\n",
       "    <tr>\n",
       "      <th>75%</th>\n",
       "      <td>48.837209</td>\n",
       "    </tr>\n",
       "    <tr>\n",
       "      <th>max</th>\n",
       "      <td>98.685541</td>\n",
       "    </tr>\n",
       "  </tbody>\n",
       "</table>\n",
       "</div>"
      ],
      "text/plain": [
       "       percent_missing\n",
       "count       235.000000\n",
       "mean         20.897532\n",
       "std          33.071179\n",
       "min           0.000000\n",
       "25%           0.000000\n",
       "50%           0.202224\n",
       "75%          48.837209\n",
       "max          98.685541"
      ]
     },
     "execution_count": 24,
     "metadata": {},
     "output_type": "execute_result"
    }
   ],
   "source": [
    "import missingno as msno\n",
    "    \n",
    "# msno.matrix(df.loc[:, df.columns.str.contains(main_groups[0])])\n",
    "percent_missing = df.isnull().sum() * 100 / len(df)\n",
    "missing_value_df = pd.DataFrame({'column_name': df.columns,\n",
    "                                 'percent_missing': percent_missing})\n",
    "missing_value_df.describe()"
   ]
  },
  {
   "cell_type": "code",
   "execution_count": 25,
   "metadata": {},
   "outputs": [],
   "source": [
    "coldf = pd.DataFrame(cols, columns=['name'])"
   ]
  },
  {
   "cell_type": "code",
   "execution_count": 26,
   "metadata": {},
   "outputs": [],
   "source": [
    "def get_info_from_column(col):\n",
    "    import re\n",
    "    \n",
    "    col = col.replace('Cata', 'cata')\\\n",
    "        .replace('Spa', 'spa')\\\n",
    "        .replace('Rate', 'rate')\\\n",
    "        .replace('Parl', 'parl')\\\n",
    "        .replace('Cong', 'cong')\\\n",
    "        .replace('Europ', 'europ')\\\n",
    "        .replace('Depu', 'depu')\\\n",
    "        .replace('Social', 'social')\\\n",
    "        .replace('Security', 'security')\\\n",
    "\n",
    "    fields = re.split(r'(?=_[A-Z][^A-Z])', col)\n",
    "    return fields"
   ]
  },
  {
   "cell_type": "code",
   "execution_count": 27,
   "metadata": {},
   "outputs": [],
   "source": [
    "def format_name(string):\n",
    "    import re\n",
    "    return '_'.join(re.findall(r'[A-Za-z]+', string)).lower()"
   ]
  },
  {
   "cell_type": "code",
   "execution_count": 28,
   "metadata": {},
   "outputs": [],
   "source": [
    "def get_relevant_info_by_group(col):\n",
    "\n",
    "    fields = get_info_from_column(col)\n",
    "    l = len(fields)\n",
    "    main = fields[0].lower()\n",
    "    \n",
    "    if 'culture' in main: sub = fields[2]; ind = fields[-1]\n",
    "    elif 'economic' in main: sub = fields[1]; ind = fields[-1]\n",
    "    elif 'education' in main: sub = fields[1]; ind = fields[-1]\n",
    "    elif 'election' in main: sub = fields[1]; ind = fields[-1]\n",
    "    elif 'environment' in main: sub = fields[1]; ind = fields[-1]\n",
    "    elif 'labour' in main:\n",
    "        sub = fields[1]\n",
    "        if fields[1] != fields[4]:\n",
    "            sub = fields[1] + fields[-4]\n",
    "        ind = fields[-1]  \n",
    "    elif 'main' in main: sub = fields[2]; ind = fields[-1]\n",
    "    elif 'population' in main:\n",
    "        sub = fields[1]\n",
    "        if len(fields) >= 4:\n",
    "            sub = fields[3]\n",
    "        ind = fields[-1]     \n",
    "    elif 'quality' in main: sub = fields[1]; ind = fields[-1]\n",
    "    elif 'territory': sub = ''; ind = fields[-1]\n",
    "    else: sub = ''; ind = ''\n",
    "        \n",
    "    return format_name(main), format_name(sub), format_name(ind)"
   ]
  },
  {
   "cell_type": "code",
   "execution_count": 29,
   "metadata": {},
   "outputs": [],
   "source": [
    "coldf.loc[:, 'main'], coldf.loc[:, 'sub'], coldf.loc[:, 'ind'] = zip(*coldf['name'].apply(lambda x: get_relevant_info_by_group(x)))\n",
    "coldf.loc[:, 'kpi'] = coldf[['main', 'sub', 'ind']].apply(lambda row: '_'.join(row.values.astype(str)), axis=1)"
   ]
  },
  {
   "cell_type": "code",
   "execution_count": 30,
   "metadata": {},
   "outputs": [],
   "source": [
    "# Map such names to the data\n",
    "\n",
    "dcol = {}\n",
    "for i in range(len(coldf)):\n",
    "    row = coldf.iloc[i, :]\n",
    "    orig = row['name']\n",
    "    form = row['kpi']\n",
    "    dcol[orig] = form\n",
    "\n",
    "df = df.rename(dcol, axis=1).drop('unnamed__unnamed', axis=1)"
   ]
  },
  {
   "cell_type": "markdown",
   "metadata": {},
   "source": [
    "---"
   ]
  },
  {
   "cell_type": "markdown",
   "metadata": {},
   "source": [
    "### Missing values"
   ]
  },
  {
   "cell_type": "code",
   "execution_count": 31,
   "metadata": {},
   "outputs": [],
   "source": [
    "groups = list(coldf['main'].unique())\n",
    "groups.remove('unnamed')"
   ]
  },
  {
   "cell_type": "code",
   "execution_count": 59,
   "metadata": {},
   "outputs": [],
   "source": [
    "percent_missing = df.isnull().sum() * 100 / len(df)\n",
    "missing_value_df = pd.DataFrame({'column_name': df.columns,\n",
    "                                 'percent_missing': percent_missing})\n",
    "missing_value_df = missing_value_df.reset_index().drop('index', axis=1).drop_duplicates()"
   ]
  },
  {
   "cell_type": "code",
   "execution_count": 42,
   "metadata": {},
   "outputs": [
    {
     "data": {
      "text/plain": [
       "<seaborn.axisgrid.FacetGrid at 0x7f6dc5cfc400>"
      ]
     },
     "execution_count": 42,
     "metadata": {},
     "output_type": "execute_result"
    },
    {
     "data": {
      "image/png": "[encoded data removed]",
      "text/plain": [
       "<Figure size 360x360 with 1 Axes>"
      ]
     },
     "metadata": {},
     "output_type": "display_data"
    }
   ],
   "source": [
    "import seaborn as sns\n",
    "sns.set_theme()\n",
    "\n",
    "sns.displot(missing_value_df, x='percent_missing')"
   ]
  },
  {
   "cell_type": "markdown",
   "metadata": {},
   "source": [
    "### Get Categorical Variables"
   ]
  },
  {
   "cell_type": "code",
   "execution_count": null,
   "metadata": {},
   "outputs": [],
   "source": [
    "pd.set_option('display.max_rows', 999)\n",
    "pd.set_option('display.max_columns', 999)\n",
    "pd.set_option('display.max_colwidth', 20)\n",
    "\n",
    "missing_value_dfs = missing_value_df.style.set_properties(**{'text-align': 'left'})\n",
    "missing_value_dfs"
   ]
  },
  {
   "cell_type": "markdown",
   "metadata": {},
   "source": []
  },
  {
   "cell_type": "markdown",
   "metadata": {},
   "source": [
    "### Impute Missing Values"
   ]
  }
 ],
 "metadata": {
  "interpreter": {
   "hash": "fe5cedfcb5d2ed2fabebe13918fcd224b55eff004bf79e43e1907e8ef83a95e3"
  },
  "kernelspec": {
   "display_name": "Python 3",
   "language": "python",
   "name": "python3"
  },
  "language_info": {
   "codemirror_mode": {
    "name": "ipython",
    "version": 3
   },
   "file_extension": ".py",
   "mimetype": "text/x-python",
   "name": "python",
   "nbconvert_exporter": "python",
   "pygments_lexer": "ipython3",
   "version": "3.9.10"
  }
 },
 "nbformat": 4,
 "nbformat_minor": 2
}
