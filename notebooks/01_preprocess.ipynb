{
 "cells": [
  {
   "cell_type": "code",
   "execution_count": 385,
   "metadata": {},
   "outputs": [],
   "source": [
    "import os\n",
    "import sys\n",
    "import pandas as pd\n",
    "from copy import copy\n",
    "\n",
    "\n",
    "data_path = os.path.join(os.getcwd(), '../data')\n",
    "src_path = os.path.join(os.getcwd(), '../src')\n",
    "sys.path.append(src_path)\n",
    "\n",
    "import utils"
   ]
  },
  {
   "cell_type": "code",
   "execution_count": 386,
   "metadata": {},
   "outputs": [],
   "source": [
    "df = pd.read_csv(os.path.join(data_path, 'data.csv'), index_col='Municipality')"
   ]
  },
  {
   "cell_type": "markdown",
   "metadata": {},
   "source": [
    "## Duplicated Columns"
   ]
  },
  {
   "cell_type": "code",
   "execution_count": 387,
   "metadata": {},
   "outputs": [],
   "source": [
    "def getDuplicateColumns(df):\n",
    "    duplicateColumnNames = set()\n",
    "    # Iterate over all the columns in dataframe\n",
    "    for x in range(df.shape[1]):\n",
    "        # Select column at xth index.\n",
    "        col = df.iloc[:, x]\n",
    "        # Iterate over all the columns in DataFrame from (x+1)th index till end\n",
    "        for y in range(x + 1, df.shape[1]):\n",
    "            # Select column at yth index.\n",
    "            otherCol = df.iloc[:, y]\n",
    "            # Check if two columns at x 7 y index are equal\n",
    "            if col.equals(otherCol):\n",
    "                duplicateColumnNames.add(df.columns.values[y])\n",
    "    return list(duplicateColumnNames)\n",
    "\n",
    "duplicated_columns = getDuplicateColumns(df)"
   ]
  },
  {
   "cell_type": "code",
   "execution_count": 388,
   "metadata": {},
   "outputs": [],
   "source": [
    "df.drop(columns=duplicated_columns, inplace=True)"
   ]
  },
  {
   "cell_type": "code",
   "execution_count": 389,
   "metadata": {},
   "outputs": [],
   "source": [
    "not_div_cols = list(df.filter(regex=r'density|education|per_capita|municipal_waste|^(?!.*surface).*territory.*$|(?=.*growth)(?=.*average)|turnout|rate').columns)"
   ]
  },
  {
   "cell_type": "code",
   "execution_count": 390,
   "metadata": {},
   "outputs": [
    {
     "data": {
      "text/plain": [
       "0"
      ]
     },
     "execution_count": 390,
     "metadata": {},
     "output_type": "execute_result"
    }
   ],
   "source": [
    "df['population_population_by_sex_total'].isna().sum()"
   ]
  },
  {
   "cell_type": "code",
   "execution_count": 391,
   "metadata": {},
   "outputs": [],
   "source": [
    "not_div_cols.append('population_population_by_sex_total')\n",
    "cols = df.loc[:, ~df.columns.isin(not_div_cols)].select_dtypes(include='number').columns\n",
    "df[cols] = df.loc[:, ~df.columns.isin(not_div_cols)].select_dtypes(include='number').div(df['population_population_by_sex_total'], axis=0)"
   ]
  },
  {
   "cell_type": "markdown",
   "metadata": {},
   "source": [
    "## Numerical Missing Values"
   ]
  },
  {
   "cell_type": "code",
   "execution_count": 392,
   "metadata": {},
   "outputs": [
    {
     "data": {
      "text/html": [
       "<div>\n",
       "<style scoped>\n",
       "    .dataframe tbody tr th:only-of-type {\n",
       "        vertical-align: middle;\n",
       "    }\n",
       "\n",
       "    .dataframe tbody tr th {\n",
       "        vertical-align: top;\n",
       "    }\n",
       "\n",
       "    .dataframe thead th {\n",
       "        text-align: right;\n",
       "    }\n",
       "</style>\n",
       "<table border=\"1\" class=\"dataframe\">\n",
       "  <thead>\n",
       "    <tr style=\"text-align: right;\">\n",
       "      <th></th>\n",
       "      <th>percent_missing</th>\n",
       "    </tr>\n",
       "  </thead>\n",
       "  <tbody>\n",
       "    <tr>\n",
       "      <th>count</th>\n",
       "      <td>205.000000</td>\n",
       "    </tr>\n",
       "    <tr>\n",
       "      <th>mean</th>\n",
       "      <td>0.231577</td>\n",
       "    </tr>\n",
       "    <tr>\n",
       "      <th>std</th>\n",
       "      <td>0.343363</td>\n",
       "    </tr>\n",
       "    <tr>\n",
       "      <th>min</th>\n",
       "      <td>0.000000</td>\n",
       "    </tr>\n",
       "    <tr>\n",
       "      <th>25%</th>\n",
       "      <td>0.000000</td>\n",
       "    </tr>\n",
       "    <tr>\n",
       "      <th>50%</th>\n",
       "      <td>0.002022</td>\n",
       "    </tr>\n",
       "    <tr>\n",
       "      <th>75%</th>\n",
       "      <td>0.496461</td>\n",
       "    </tr>\n",
       "    <tr>\n",
       "      <th>max</th>\n",
       "      <td>0.986855</td>\n",
       "    </tr>\n",
       "  </tbody>\n",
       "</table>\n",
       "</div>"
      ],
      "text/plain": [
       "       percent_missing\n",
       "count       205.000000\n",
       "mean          0.231577\n",
       "std           0.343363\n",
       "min           0.000000\n",
       "25%           0.000000\n",
       "50%           0.002022\n",
       "75%           0.496461\n",
       "max           0.986855"
      ]
     },
     "execution_count": 392,
     "metadata": {},
     "output_type": "execute_result"
    }
   ],
   "source": [
    "percent_missing = df.isnull().sum() / len(df)\n",
    "missing_value_df = pd.DataFrame({'column_name': df.columns, 'percent_missing': percent_missing}).reset_index(drop=True).iloc[1:, :]\n",
    "missing_value_df_copy = copy(missing_value_df)\n",
    "missing_value_df.describe()"
   ]
  },
  {
   "cell_type": "code",
   "execution_count": 393,
   "metadata": {},
   "outputs": [
    {
     "data": {
      "text/html": [
       "<div>\n",
       "<style scoped>\n",
       "    .dataframe tbody tr th:only-of-type {\n",
       "        vertical-align: middle;\n",
       "    }\n",
       "\n",
       "    .dataframe tbody tr th {\n",
       "        vertical-align: top;\n",
       "    }\n",
       "\n",
       "    .dataframe thead th {\n",
       "        text-align: right;\n",
       "    }\n",
       "</style>\n",
       "<table border=\"1\" class=\"dataframe\">\n",
       "  <thead>\n",
       "    <tr style=\"text-align: right;\">\n",
       "      <th></th>\n",
       "      <th>column_name</th>\n",
       "      <th>percent_missing</th>\n",
       "    </tr>\n",
       "  </thead>\n",
       "  <tbody>\n",
       "    <tr>\n",
       "      <th>1</th>\n",
       "      <td>territory__altitude</td>\n",
       "      <td>0.042467</td>\n",
       "    </tr>\n",
       "    <tr>\n",
       "      <th>2</th>\n",
       "      <td>territory__longitude</td>\n",
       "      <td>0.042467</td>\n",
       "    </tr>\n",
       "    <tr>\n",
       "      <th>3</th>\n",
       "      <td>territory__latitude</td>\n",
       "      <td>0.042467</td>\n",
       "    </tr>\n",
       "    <tr>\n",
       "      <th>4</th>\n",
       "      <td>territory__geographic_indicators_utm_coordinat...</td>\n",
       "      <td>0.042467</td>\n",
       "    </tr>\n",
       "    <tr>\n",
       "      <th>5</th>\n",
       "      <td>territory__geographic_indicators_utm_coordinat...</td>\n",
       "      <td>0.042467</td>\n",
       "    </tr>\n",
       "  </tbody>\n",
       "</table>\n",
       "</div>"
      ],
      "text/plain": [
       "                                         column_name  percent_missing\n",
       "1                                territory__altitude         0.042467\n",
       "2                               territory__longitude         0.042467\n",
       "3                                territory__latitude         0.042467\n",
       "4  territory__geographic_indicators_utm_coordinat...         0.042467\n",
       "5  territory__geographic_indicators_utm_coordinat...         0.042467"
      ]
     },
     "execution_count": 393,
     "metadata": {},
     "output_type": "execute_result"
    }
   ],
   "source": [
    "missing_value_df.head()"
   ]
  },
  {
   "cell_type": "code",
   "execution_count": 394,
   "metadata": {},
   "outputs": [
    {
     "data": {
      "text/plain": [
       "<seaborn.axisgrid.FacetGrid at 0x7f7a7627aa60>"
      ]
     },
     "execution_count": 394,
     "metadata": {},
     "output_type": "execute_result"
    },
    {
     "data": {
      "image/png": "[encoded data removed]",
      "text/plain": [
       "<Figure size 360x360 with 1 Axes>"
      ]
     },
     "metadata": {},
     "output_type": "display_data"
    }
   ],
   "source": [
    "import seaborn as sns\n",
    "\n",
    "missing_value_df = missing_value_df_copy[missing_value_df_copy['percent_missing'] < 0.3]\n",
    "\n",
    "sns.set_theme()\n",
    "sns.displot(missing_value_df, x='percent_missing', bins=30)"
   ]
  },
  {
   "cell_type": "code",
   "execution_count": 395,
   "metadata": {},
   "outputs": [
    {
     "name": "stdout",
     "output_type": "stream",
     "text": [
      "(989, 206)\n",
      "(989, 142)\n"
     ]
    }
   ],
   "source": [
    "# Filter main df by removing columns with too many missing values\n",
    "print(df.shape)\n",
    "filtered_columns = missing_value_df['column_name'].to_numpy()\n",
    "df = df[filtered_columns]\n",
    "print(df.shape)"
   ]
  },
  {
   "cell_type": "code",
   "execution_count": 396,
   "metadata": {},
   "outputs": [],
   "source": [
    "# pd.set_option('display.max_rows', 999)\n",
    "# pd.set_option('display.max_columns', 999)\n",
    "# pd.set_option('display.max_colwidth', 20)\n",
    "\n",
    "# missing_value_df.sort_values(['percent_missing'], ascending=False).style.set_properties(**{'text-align': 'left'})"
   ]
  },
  {
   "cell_type": "code",
   "execution_count": 397,
   "metadata": {},
   "outputs": [
    {
     "data": {
      "text/plain": [
       "count    989.000000\n",
       "mean       2.132457\n",
       "std        2.423662\n",
       "min        0.000000\n",
       "25%        1.000000\n",
       "50%        1.000000\n",
       "75%        3.000000\n",
       "max       31.000000\n",
       "dtype: float64"
      ]
     },
     "execution_count": 397,
     "metadata": {},
     "output_type": "execute_result"
    }
   ],
   "source": [
    "# Store how many missing values has the row before imputation to check for later outliers\n",
    "missing_track = df.apply(lambda x: x.isna().sum(), axis=1)\n",
    "missing_track.describe()"
   ]
  },
  {
   "cell_type": "code",
   "execution_count": 398,
   "metadata": {},
   "outputs": [],
   "source": [
    "from sklearn.impute import KNNImputer\n",
    "from sklearn.impute import SimpleImputer\n",
    "\n",
    "simple_imputer = SimpleImputer()\n",
    "simple_data = copy(df.select_dtypes(include='number'))\n",
    "simple_data[:] = simple_imputer.fit_transform(simple_data)"
   ]
  },
  {
   "cell_type": "code",
   "execution_count": 399,
   "metadata": {},
   "outputs": [
    {
     "data": {
      "text/plain": [
       "(0.9450876233239034, 7)"
      ]
     },
     "execution_count": 399,
     "metadata": {},
     "output_type": "execute_result"
    }
   ],
   "source": [
    "from scipy.stats import ks_2samp\n",
    "\n",
    "def check_distributions(df1, df2, printit=True, badcols=False):\n",
    "    \n",
    "    pvalue = 0\n",
    "    n = 0\n",
    "    bad_cols = []\n",
    "    for col in df2.columns:\n",
    "        ks = ks_2samp(df1[col].dropna(), df2[col])\n",
    "        pvalue += ks.pvalue\n",
    "        \n",
    "        if ks.pvalue < 0.05: \n",
    "            n += 1 \n",
    "            if printit: \n",
    "                bad_cols.append(col)\n",
    "                print(col, df1[col].isna().sum())\n",
    "    \n",
    "    avg_pvalue = pvalue/len(df1.columns)\n",
    "    if badcols:\n",
    "        return bad_cols\n",
    "    return avg_pvalue, n\n",
    "\n",
    "check_distributions(df.select_dtypes(include='number'), simple_data, printit=False)"
   ]
  },
  {
   "cell_type": "code",
   "execution_count": 400,
   "metadata": {},
   "outputs": [
    {
     "name": "stdout",
     "output_type": "stream",
     "text": [
      "K: 1 (0.9543646957639171, 5)\n",
      "K: 2 (0.9571135561655777, 5)\n",
      "K: 3 (0.9562938782404148, 6)\n",
      "K: 4 (0.9548957343048908, 5)\n",
      "K: 5 (0.9537611073310798, 6)\n",
      "K: 6 (0.9527636441281925, 6)\n",
      "K: 7 (0.9519365132826436, 6)\n",
      "K: 8 (0.9518445923069393, 6)\n",
      "K: 9 (0.9512100787107867, 6)\n"
     ]
    }
   ],
   "source": [
    "for k in range(1,10):\n",
    "    knn_imputer = KNNImputer(n_neighbors=k, weights='distance')\n",
    "    knn_data = copy(df.select_dtypes(include='number'))\n",
    "    knn_data[:] = knn_imputer.fit_transform(knn_data)\n",
    "    print(f'K: {k}', check_distributions(df.select_dtypes(include='number'), knn_data, printit=False))"
   ]
  },
  {
   "cell_type": "code",
   "execution_count": 401,
   "metadata": {},
   "outputs": [
    {
     "name": "stdout",
     "output_type": "stream",
     "text": [
      "elections_municipal_elections_electors 186\n",
      "labour_affiliations_to_general_system_according_to_location_of_affilation_by_sectors_construction 287\n",
      "labour_affiliations_to_self_employed_system_according_to_location_of_affilation_by_sectors_agriculture 185\n",
      "quality_of_life_type_of_dwellings_vacant 256\n",
      "quality_of_life_type_of_dwellings_secondary 237\n"
     ]
    }
   ],
   "source": [
    "# Best imputer\n",
    "knn_imputer = KNNImputer(n_neighbors=2, weights='distance')\n",
    "imputed_data = copy(df.select_dtypes(include='number'))\n",
    "imputed_data[:] = knn_imputer.fit_transform(imputed_data)\n",
    "bad_cols = check_distributions(df.select_dtypes(include='number'), imputed_data, badcols=True)"
   ]
  },
  {
   "cell_type": "code",
   "execution_count": 402,
   "metadata": {},
   "outputs": [],
   "source": [
    "df.loc[:, imputed_data.columns] = imputed_data\n",
    "df.drop(columns=bad_cols, inplace=True)"
   ]
  },
  {
   "cell_type": "markdown",
   "metadata": {},
   "source": [
    "## Categorical Missing Values"
   ]
  },
  {
   "cell_type": "code",
   "execution_count": 403,
   "metadata": {},
   "outputs": [
    {
     "data": {
      "image/png": "[encoded data removed]",
      "text/plain": [
       "<Figure size 432x288 with 1 Axes>"
      ]
     },
     "metadata": {},
     "output_type": "display_data"
    },
    {
     "data": {
      "image/png": "[encoded data removed]",
      "text/plain": [
       "<Figure size 432x288 with 1 Axes>"
      ]
     },
     "metadata": {},
     "output_type": "display_data"
    },
    {
     "data": {
      "image/png": "[encoded data removed]",
      "text/plain": [
       "<Figure size 432x288 with 1 Axes>"
      ]
     },
     "metadata": {},
     "output_type": "display_data"
    },
    {
     "data": {
      "image/png": "[encoded data removed]",
      "text/plain": [
       "<Figure size 432x288 with 1 Axes>"
      ]
     },
     "metadata": {},
     "output_type": "display_data"
    }
   ],
   "source": [
    "import matplotlib.pyplot as plt\n",
    "\n",
    "for cat in df.select_dtypes(exclude='number').columns:\n",
    "    aux = df[cat].value_counts()\n",
    "    sns.barplot(x=aux.index, y=aux)\n",
    "    plt.show()"
   ]
  },
  {
   "cell_type": "code",
   "execution_count": 404,
   "metadata": {},
   "outputs": [
    {
     "data": {
      "text/plain": [
       "economic_sectors_head_of_livestock_main    38\n",
       "economic_sectors_cultivated_land_main      38\n",
       "population_population_by_sex_main           0\n",
       "culture_sports_facilities_main              0\n",
       "dtype: int64"
      ]
     },
     "execution_count": 404,
     "metadata": {},
     "output_type": "execute_result"
    }
   ],
   "source": [
    "df.select_dtypes(exclude='number').isna().sum()"
   ]
  },
  {
   "cell_type": "code",
   "execution_count": 405,
   "metadata": {},
   "outputs": [],
   "source": [
    "df = df.apply(lambda x: x.fillna('Unknown'))"
   ]
  },
  {
   "cell_type": "code",
   "execution_count": 406,
   "metadata": {},
   "outputs": [],
   "source": [
    "df['missing_count'] = missing_track"
   ]
  },
  {
   "cell_type": "markdown",
   "metadata": {},
   "source": [
    "## Outliers - Mahalanobis Distance"
   ]
  },
  {
   "cell_type": "code",
   "execution_count": 407,
   "metadata": {},
   "outputs": [
    {
     "data": {
      "text/plain": [
       "0"
      ]
     },
     "execution_count": 407,
     "metadata": {},
     "output_type": "execute_result"
    }
   ],
   "source": [
    "import numpy as np\n",
    "\n",
    "num_df = copy(df.select_dtypes(include='number'))\n",
    "covariance = np.cov(num_df, rowvar=False)\n",
    "sum(sum(pd.isna(covariance))) # Issues with covariance due to high correlations"
   ]
  },
  {
   "cell_type": "code",
   "execution_count": 408,
   "metadata": {},
   "outputs": [],
   "source": [
    "covariance_pm1 = np.linalg.matrix_power(covariance, -1)\n",
    "centerpoint = np.mean(num_df, axis=0)"
   ]
  },
  {
   "cell_type": "code",
   "execution_count": 409,
   "metadata": {},
   "outputs": [
    {
     "name": "stdout",
     "output_type": "stream",
     "text": [
      "--- Index of Outliers ----\n",
      "260\n"
     ]
    }
   ],
   "source": [
    "from scipy.stats import chi2\n",
    "from scipy.spatial.distance import mahalanobis\n",
    "\n",
    "distances = []\n",
    "for i in range(len(num_df)):\n",
    "      p1 = num_df.iloc[i,:]\n",
    "      p2 = centerpoint\n",
    "      # distance = mahalanobis(p1, p2, covariance_pm1)\n",
    "      distance = (p1-p2).T.dot(covariance_pm1).dot(p1-p2)\n",
    "      distances.append(distance)\n",
    "distances = np.array(distances)\n",
    "\n",
    "# Cutoff (threshold) value from Chi-Sqaure Distribution for detecting outliers \n",
    "cutoff = chi2.ppf(0.99, num_df.shape[1])\n",
    "\n",
    "# # Index of outliers\n",
    "outlierIndexes = np.where(distances > cutoff )\n",
    "\n",
    "print('--- Index of Outliers ----')\n",
    "print(len(outlierIndexes[0]))"
   ]
  },
  {
   "cell_type": "markdown",
   "metadata": {},
   "source": [
    "## Model Based"
   ]
  },
  {
   "cell_type": "code",
   "execution_count": 410,
   "metadata": {},
   "outputs": [
    {
     "name": "stdout",
     "output_type": "stream",
     "text": [
      "135\n",
      "1     962\n",
      "-1     27\n",
      "Name: iso_forest_outliers, dtype: int64\n"
     ]
    }
   ],
   "source": [
    "from sklearn.ensemble import IsolationForest\n",
    "\n",
    "num_df = copy(df.select_dtypes(include='number'))\n",
    "\n",
    "#create the method instance\n",
    "isf = IsolationForest(n_estimators = 100, random_state = 42, contamination = 'auto')\n",
    "\n",
    "#use fit_predict on the data as we are using all the data\n",
    "preds = isf.fit_predict(num_df)\n",
    "\n",
    "# #extract outliers from the data\n",
    "num_df[\"iso_forest_outliers\"] = preds\n",
    "num_df[\"iso_forest_outliers\"] = num_df[\"iso_forest_outliers\"].astype(str)\n",
    "\n",
    "print(num_df.shape[1])\n",
    "\n",
    "# #extract the scores from the data in terms of strength of outlier\n",
    "num_df[\"iso_forest_scores\"] = isf.decision_function(num_df.drop(columns='iso_forest_outliers')) #print how many outliers the data suggests\n",
    "print(num_df[\"iso_forest_outliers\"].value_counts())"
   ]
  },
  {
   "cell_type": "code",
   "execution_count": 411,
   "metadata": {},
   "outputs": [
    {
     "data": {
      "text/plain": [
       "count    27.000000\n",
       "mean      7.333333\n",
       "std       5.114083\n",
       "min       1.000000\n",
       "25%       3.000000\n",
       "50%       7.000000\n",
       "75%      10.500000\n",
       "max      19.000000\n",
       "Name: missing_count, dtype: float64"
      ]
     },
     "execution_count": 411,
     "metadata": {},
     "output_type": "execute_result"
    }
   ],
   "source": [
    "outlier_ix = num_df[num_df['iso_forest_outliers'] == '-1'].index\n",
    "nonoutlier_ix = num_df[num_df['iso_forest_outliers'] == '1'].index\n",
    "num_df.loc[outlier_ix, 'missing_count'].describe()"
   ]
  },
  {
   "cell_type": "code",
   "execution_count": 412,
   "metadata": {},
   "outputs": [
    {
     "data": {
      "text/plain": [
       "count    962.000000\n",
       "mean       1.986486\n",
       "std        2.133140\n",
       "min        0.000000\n",
       "25%        1.000000\n",
       "50%        1.000000\n",
       "75%        3.000000\n",
       "max       31.000000\n",
       "Name: missing_count, dtype: float64"
      ]
     },
     "execution_count": 412,
     "metadata": {},
     "output_type": "execute_result"
    }
   ],
   "source": [
    "num_df.loc[nonoutlier_ix, 'missing_count'].describe()"
   ]
  },
  {
   "cell_type": "code",
   "execution_count": 413,
   "metadata": {},
   "outputs": [],
   "source": [
    "clean_data = df.loc[nonoutlier_ix, :]\n",
    "outlier_data = df.loc[outlier_ix, :]\n",
    "\n",
    "clean_data.to_csv('../data/clean_data.csv')\n",
    "outlier_data.to_csv('../data/outlier_data.csv')"
   ]
  },
  {
   "cell_type": "markdown",
   "metadata": {},
   "source": [
    "## Feature Extraction (not yet)"
   ]
  },
  {
   "cell_type": "code",
   "execution_count": 191,
   "metadata": {},
   "outputs": [
    {
     "data": {
      "text/html": [
       "<style type=\"text/css\">\n",
       "#T_7c3cd_row0_col0, #T_7c3cd_row1_col0, #T_7c3cd_row2_col0, #T_7c3cd_row3_col0, #T_7c3cd_row4_col0, #T_7c3cd_row5_col0, #T_7c3cd_row6_col0, #T_7c3cd_row7_col0, #T_7c3cd_row8_col0, #T_7c3cd_row9_col0, #T_7c3cd_row10_col0, #T_7c3cd_row11_col0, #T_7c3cd_row12_col0, #T_7c3cd_row13_col0, #T_7c3cd_row14_col0, #T_7c3cd_row15_col0, #T_7c3cd_row16_col0, #T_7c3cd_row17_col0, #T_7c3cd_row18_col0, #T_7c3cd_row19_col0, #T_7c3cd_row20_col0, #T_7c3cd_row21_col0, #T_7c3cd_row22_col0, #T_7c3cd_row23_col0, #T_7c3cd_row24_col0, #T_7c3cd_row25_col0, #T_7c3cd_row26_col0, #T_7c3cd_row27_col0, #T_7c3cd_row28_col0, #T_7c3cd_row29_col0, #T_7c3cd_row30_col0, #T_7c3cd_row31_col0, #T_7c3cd_row32_col0, #T_7c3cd_row33_col0, #T_7c3cd_row34_col0, #T_7c3cd_row35_col0, #T_7c3cd_row36_col0, #T_7c3cd_row37_col0, #T_7c3cd_row38_col0, #T_7c3cd_row39_col0, #T_7c3cd_row40_col0, #T_7c3cd_row41_col0, #T_7c3cd_row42_col0, #T_7c3cd_row43_col0, #T_7c3cd_row44_col0, #T_7c3cd_row45_col0, #T_7c3cd_row46_col0, #T_7c3cd_row47_col0, #T_7c3cd_row48_col0, #T_7c3cd_row49_col0, #T_7c3cd_row50_col0, #T_7c3cd_row51_col0, #T_7c3cd_row52_col0, #T_7c3cd_row53_col0, #T_7c3cd_row54_col0, #T_7c3cd_row55_col0, #T_7c3cd_row56_col0, #T_7c3cd_row57_col0, #T_7c3cd_row58_col0, #T_7c3cd_row59_col0, #T_7c3cd_row60_col0, #T_7c3cd_row61_col0, #T_7c3cd_row62_col0, #T_7c3cd_row63_col0, #T_7c3cd_row64_col0, #T_7c3cd_row65_col0, #T_7c3cd_row66_col0, #T_7c3cd_row67_col0, #T_7c3cd_row68_col0, #T_7c3cd_row69_col0, #T_7c3cd_row70_col0, #T_7c3cd_row71_col0, #T_7c3cd_row72_col0, #T_7c3cd_row73_col0, #T_7c3cd_row74_col0, #T_7c3cd_row75_col0, #T_7c3cd_row76_col0, #T_7c3cd_row77_col0, #T_7c3cd_row78_col0, #T_7c3cd_row79_col0, #T_7c3cd_row80_col0, #T_7c3cd_row81_col0, #T_7c3cd_row82_col0, #T_7c3cd_row83_col0, #T_7c3cd_row84_col0, #T_7c3cd_row85_col0, #T_7c3cd_row86_col0, #T_7c3cd_row87_col0, #T_7c3cd_row88_col0, #T_7c3cd_row89_col0, #T_7c3cd_row90_col0, #T_7c3cd_row91_col0, #T_7c3cd_row92_col0, #T_7c3cd_row93_col0, #T_7c3cd_row94_col0, #T_7c3cd_row95_col0, #T_7c3cd_row96_col0, #T_7c3cd_row97_col0, #T_7c3cd_row98_col0, #T_7c3cd_row99_col0, #T_7c3cd_row100_col0, #T_7c3cd_row101_col0, #T_7c3cd_row102_col0, #T_7c3cd_row103_col0, #T_7c3cd_row104_col0, #T_7c3cd_row105_col0, #T_7c3cd_row106_col0, #T_7c3cd_row107_col0, #T_7c3cd_row108_col0, #T_7c3cd_row109_col0, #T_7c3cd_row110_col0, #T_7c3cd_row111_col0, #T_7c3cd_row112_col0, #T_7c3cd_row113_col0, #T_7c3cd_row114_col0, #T_7c3cd_row115_col0, #T_7c3cd_row116_col0, #T_7c3cd_row117_col0, #T_7c3cd_row118_col0, #T_7c3cd_row119_col0, #T_7c3cd_row120_col0, #T_7c3cd_row121_col0, #T_7c3cd_row122_col0, #T_7c3cd_row123_col0, #T_7c3cd_row124_col0, #T_7c3cd_row125_col0, #T_7c3cd_row126_col0, #T_7c3cd_row127_col0, #T_7c3cd_row128_col0, #T_7c3cd_row129_col0, #T_7c3cd_row130_col0, #T_7c3cd_row131_col0, #T_7c3cd_row132_col0, #T_7c3cd_row133_col0, #T_7c3cd_row134_col0, #T_7c3cd_row135_col0, #T_7c3cd_row136_col0, #T_7c3cd_row137_col0, #T_7c3cd_row138_col0, #T_7c3cd_row139_col0, #T_7c3cd_row140_col0, #T_7c3cd_row141_col0, #T_7c3cd_row142_col0, #T_7c3cd_row143_col0, #T_7c3cd_row144_col0, #T_7c3cd_row145_col0, #T_7c3cd_row146_col0, #T_7c3cd_row147_col0, #T_7c3cd_row148_col0, #T_7c3cd_row149_col0, #T_7c3cd_row150_col0, #T_7c3cd_row151_col0, #T_7c3cd_row152_col0, #T_7c3cd_row153_col0, #T_7c3cd_row154_col0, #T_7c3cd_row155_col0, #T_7c3cd_row156_col0, #T_7c3cd_row157_col0, #T_7c3cd_row158_col0, #T_7c3cd_row159_col0, #T_7c3cd_row160_col0, #T_7c3cd_row161_col0 {\n",
       "  text-align: left;\n",
       "}\n",
       "</style>\n",
       "<table id=\"T_7c3cd\">\n",
       "  <thead>\n",
       "    <tr>\n",
       "      <th class=\"blank level0\" >&nbsp;</th>\n",
       "      <th id=\"T_7c3cd_level0_col0\" class=\"col_heading level0 col0\" >column_name</th>\n",
       "    </tr>\n",
       "  </thead>\n",
       "  <tbody>\n",
       "    <tr>\n",
       "      <th id=\"T_7c3cd_level0_row0\" class=\"row_heading level0 row0\" >0</th>\n",
       "      <td id=\"T_7c3cd_row0_col0\" class=\"data row0 col0\" >territory__altitude</td>\n",
       "    </tr>\n",
       "    <tr>\n",
       "      <th id=\"T_7c3cd_level0_row1\" class=\"row_heading level0 row1\" >1</th>\n",
       "      <td id=\"T_7c3cd_row1_col0\" class=\"data row1 col0\" >territory__longitude</td>\n",
       "    </tr>\n",
       "    <tr>\n",
       "      <th id=\"T_7c3cd_level0_row2\" class=\"row_heading level0 row2\" >2</th>\n",
       "      <td id=\"T_7c3cd_row2_col0\" class=\"data row2 col0\" >territory__latitude</td>\n",
       "    </tr>\n",
       "    <tr>\n",
       "      <th id=\"T_7c3cd_level0_row3\" class=\"row_heading level0 row3\" >3</th>\n",
       "      <td id=\"T_7c3cd_row3_col0\" class=\"data row3 col0\" >territory__geographic_indicators_utm_coordinates_x_utm_coordinates_x</td>\n",
       "    </tr>\n",
       "    <tr>\n",
       "      <th id=\"T_7c3cd_level0_row4\" class=\"row_heading level0 row4\" >4</th>\n",
       "      <td id=\"T_7c3cd_row4_col0\" class=\"data row4 col0\" >territory__geographic_indicators_utm_coordinates_y_utm_coordinates_y</td>\n",
       "    </tr>\n",
       "    <tr>\n",
       "      <th id=\"T_7c3cd_level0_row5\" class=\"row_heading level0 row5\" >5</th>\n",
       "      <td id=\"T_7c3cd_row5_col0\" class=\"data row5 col0\" >population_density_of_population_density_density</td>\n",
       "    </tr>\n",
       "    <tr>\n",
       "      <th id=\"T_7c3cd_level0_row6\" class=\"row_heading level0 row6\" >6</th>\n",
       "      <td id=\"T_7c3cd_row6_col0\" class=\"data row6 col0\" >population_population_by_sex_men</td>\n",
       "    </tr>\n",
       "    <tr>\n",
       "      <th id=\"T_7c3cd_level0_row7\" class=\"row_heading level0 row7\" >7</th>\n",
       "      <td id=\"T_7c3cd_row7_col0\" class=\"data row7 col0\" >population_population_by_sex_women</td>\n",
       "    </tr>\n",
       "    <tr>\n",
       "      <th id=\"T_7c3cd_level0_row8\" class=\"row_heading level0 row8\" >8</th>\n",
       "      <td id=\"T_7c3cd_row8_col0\" class=\"data row8 col0\" >population_population_by_sex_total</td>\n",
       "    </tr>\n",
       "    <tr>\n",
       "      <th id=\"T_7c3cd_level0_row9\" class=\"row_heading level0 row9\" >9</th>\n",
       "      <td id=\"T_7c3cd_row9_col0\" class=\"data row9 col0\" >population_population_by_age_groups_from_0_to_14_years</td>\n",
       "    </tr>\n",
       "    <tr>\n",
       "      <th id=\"T_7c3cd_level0_row10\" class=\"row_heading level0 row10\" >10</th>\n",
       "      <td id=\"T_7c3cd_row10_col0\" class=\"data row10 col0\" >population_population_by_age_groups_from_15_to_64_years</td>\n",
       "    </tr>\n",
       "    <tr>\n",
       "      <th id=\"T_7c3cd_level0_row11\" class=\"row_heading level0 row11\" >11</th>\n",
       "      <td id=\"T_7c3cd_row11_col0\" class=\"data row11 col0\" >population_population_by_age_groups_from_65_to_84_years</td>\n",
       "    </tr>\n",
       "    <tr>\n",
       "      <th id=\"T_7c3cd_level0_row12\" class=\"row_heading level0 row12\" >12</th>\n",
       "      <td id=\"T_7c3cd_row12_col0\" class=\"data row12 col0\" >population_population_by_age_groups_from_85_years_and_over</td>\n",
       "    </tr>\n",
       "    <tr>\n",
       "      <th id=\"T_7c3cd_level0_row13\" class=\"row_heading level0 row13\" >13</th>\n",
       "      <td id=\"T_7c3cd_row13_col0\" class=\"data row13 col0\" >population_men_population_from_0_to_14_years</td>\n",
       "    </tr>\n",
       "    <tr>\n",
       "      <th id=\"T_7c3cd_level0_row14\" class=\"row_heading level0 row14\" >14</th>\n",
       "      <td id=\"T_7c3cd_row14_col0\" class=\"data row14 col0\" >population_men_population_from_15_to_64_years</td>\n",
       "    </tr>\n",
       "    <tr>\n",
       "      <th id=\"T_7c3cd_level0_row15\" class=\"row_heading level0 row15\" >15</th>\n",
       "      <td id=\"T_7c3cd_row15_col0\" class=\"data row15 col0\" >population_men_population_from_65_to_84_years</td>\n",
       "    </tr>\n",
       "    <tr>\n",
       "      <th id=\"T_7c3cd_level0_row16\" class=\"row_heading level0 row16\" >16</th>\n",
       "      <td id=\"T_7c3cd_row16_col0\" class=\"data row16 col0\" >population_men_population_from_85_years_and_over</td>\n",
       "    </tr>\n",
       "    <tr>\n",
       "      <th id=\"T_7c3cd_level0_row17\" class=\"row_heading level0 row17\" >17</th>\n",
       "      <td id=\"T_7c3cd_row17_col0\" class=\"data row17 col0\" >population_women_population_from_0_to_14_years</td>\n",
       "    </tr>\n",
       "    <tr>\n",
       "      <th id=\"T_7c3cd_level0_row18\" class=\"row_heading level0 row18\" >18</th>\n",
       "      <td id=\"T_7c3cd_row18_col0\" class=\"data row18 col0\" >population_women_population_from_15_to_64_years</td>\n",
       "    </tr>\n",
       "    <tr>\n",
       "      <th id=\"T_7c3cd_level0_row19\" class=\"row_heading level0 row19\" >19</th>\n",
       "      <td id=\"T_7c3cd_row19_col0\" class=\"data row19 col0\" >population_women_population_from_65_to_84_years</td>\n",
       "    </tr>\n",
       "    <tr>\n",
       "      <th id=\"T_7c3cd_level0_row20\" class=\"row_heading level0 row20\" >20</th>\n",
       "      <td id=\"T_7c3cd_row20_col0\" class=\"data row20 col0\" >population_women_population_from_85_years_and_over</td>\n",
       "    </tr>\n",
       "    <tr>\n",
       "      <th id=\"T_7c3cd_level0_row21\" class=\"row_heading level0 row21\" >21</th>\n",
       "      <td id=\"T_7c3cd_row21_col0\" class=\"data row21 col0\" >population_population_by_place_of_birth_population_born_in_catalonia_catalonia</td>\n",
       "    </tr>\n",
       "    <tr>\n",
       "      <th id=\"T_7c3cd_level0_row22\" class=\"row_heading level0 row22\" >22</th>\n",
       "      <td id=\"T_7c3cd_row22_col0\" class=\"data row22 col0\" >population_population_by_place_of_birth_rest_of_spain</td>\n",
       "    </tr>\n",
       "    <tr>\n",
       "      <th id=\"T_7c3cd_level0_row23\" class=\"row_heading level0 row23\" >23</th>\n",
       "      <td id=\"T_7c3cd_row23_col0\" class=\"data row23 col0\" >population_population_by_place_of_birth_abroad</td>\n",
       "    </tr>\n",
       "    <tr>\n",
       "      <th id=\"T_7c3cd_level0_row24\" class=\"row_heading level0 row24\" >24</th>\n",
       "      <td id=\"T_7c3cd_row24_col0\" class=\"data row24 col0\" >population_population_by_nationality_population_with_spanish_nationality_spanish</td>\n",
       "    </tr>\n",
       "    <tr>\n",
       "      <th id=\"T_7c3cd_level0_row25\" class=\"row_heading level0 row25\" >25</th>\n",
       "      <td id=\"T_7c3cd_row25_col0\" class=\"data row25 col0\" >population_population_by_nationality_foreign</td>\n",
       "    </tr>\n",
       "    <tr>\n",
       "      <th id=\"T_7c3cd_level0_row26\" class=\"row_heading level0 row26\" >26</th>\n",
       "      <td id=\"T_7c3cd_row26_col0\" class=\"data row26 col0\" >population_men_population_men_with_spanish_nationality_spanish</td>\n",
       "    </tr>\n",
       "    <tr>\n",
       "      <th id=\"T_7c3cd_level0_row27\" class=\"row_heading level0 row27\" >27</th>\n",
       "      <td id=\"T_7c3cd_row27_col0\" class=\"data row27 col0\" >population_men_population_foreign</td>\n",
       "    </tr>\n",
       "    <tr>\n",
       "      <th id=\"T_7c3cd_level0_row28\" class=\"row_heading level0 row28\" >28</th>\n",
       "      <td id=\"T_7c3cd_row28_col0\" class=\"data row28 col0\" >population_women_population_women_with_spanish_nationality_spanish</td>\n",
       "    </tr>\n",
       "    <tr>\n",
       "      <th id=\"T_7c3cd_level0_row29\" class=\"row_heading level0 row29\" >29</th>\n",
       "      <td id=\"T_7c3cd_row29_col0\" class=\"data row29 col0\" >population_women_population_foreign</td>\n",
       "    </tr>\n",
       "    <tr>\n",
       "      <th id=\"T_7c3cd_level0_row30\" class=\"row_heading level0 row30\" >30</th>\n",
       "      <td id=\"T_7c3cd_row30_col0\" class=\"data row30 col0\" >population_population_resident_abroad_on_1_january_men</td>\n",
       "    </tr>\n",
       "    <tr>\n",
       "      <th id=\"T_7c3cd_level0_row31\" class=\"row_heading level0 row31\" >31</th>\n",
       "      <td id=\"T_7c3cd_row31_col0\" class=\"data row31 col0\" >population_population_resident_abroad_on_1_january_women</td>\n",
       "    </tr>\n",
       "    <tr>\n",
       "      <th id=\"T_7c3cd_level0_row32\" class=\"row_heading level0 row32\" >32</th>\n",
       "      <td id=\"T_7c3cd_row32_col0\" class=\"data row32 col0\" >population_population_resident_abroad_on_1_january_total</td>\n",
       "    </tr>\n",
       "    <tr>\n",
       "      <th id=\"T_7c3cd_level0_row33\" class=\"row_heading level0 row33\" >33</th>\n",
       "      <td id=\"T_7c3cd_row33_col0\" class=\"data row33 col0\" >population_study_reasons_students</td>\n",
       "    </tr>\n",
       "    <tr>\n",
       "      <th id=\"T_7c3cd_level0_row34\" class=\"row_heading level0 row34\" >34</th>\n",
       "      <td id=\"T_7c3cd_row34_col0\" class=\"data row34 col0\" >population_study_reasons_students_who_study_in_the_same_municipality</td>\n",
       "    </tr>\n",
       "    <tr>\n",
       "      <th id=\"T_7c3cd_level0_row35\" class=\"row_heading level0 row35\" >35</th>\n",
       "      <td id=\"T_7c3cd_row35_col0\" class=\"data row35 col0\" >population_births_by_sex_boys</td>\n",
       "    </tr>\n",
       "    <tr>\n",
       "      <th id=\"T_7c3cd_level0_row36\" class=\"row_heading level0 row36\" >36</th>\n",
       "      <td id=\"T_7c3cd_row36_col0\" class=\"data row36 col0\" >population_births_by_sex_girls</td>\n",
       "    </tr>\n",
       "    <tr>\n",
       "      <th id=\"T_7c3cd_level0_row37\" class=\"row_heading level0 row37\" >37</th>\n",
       "      <td id=\"T_7c3cd_row37_col0\" class=\"data row37 col0\" >population_births_by_sex_total</td>\n",
       "    </tr>\n",
       "    <tr>\n",
       "      <th id=\"T_7c3cd_level0_row38\" class=\"row_heading level0 row38\" >38</th>\n",
       "      <td id=\"T_7c3cd_row38_col0\" class=\"data row38 col0\" >population_deaths_by_sex_men</td>\n",
       "    </tr>\n",
       "    <tr>\n",
       "      <th id=\"T_7c3cd_level0_row39\" class=\"row_heading level0 row39\" >39</th>\n",
       "      <td id=\"T_7c3cd_row39_col0\" class=\"data row39 col0\" >population_deaths_by_sex_women</td>\n",
       "    </tr>\n",
       "    <tr>\n",
       "      <th id=\"T_7c3cd_level0_row40\" class=\"row_heading level0 row40\" >40</th>\n",
       "      <td id=\"T_7c3cd_row40_col0\" class=\"data row40 col0\" >population_deaths_by_sex_total</td>\n",
       "    </tr>\n",
       "    <tr>\n",
       "      <th id=\"T_7c3cd_level0_row41\" class=\"row_heading level0 row41\" >41</th>\n",
       "      <td id=\"T_7c3cd_row41_col0\" class=\"data row41 col0\" >population_marriages_marriages_total</td>\n",
       "    </tr>\n",
       "    <tr>\n",
       "      <th id=\"T_7c3cd_level0_row42\" class=\"row_heading level0 row42\" >42</th>\n",
       "      <td id=\"T_7c3cd_row42_col0\" class=\"data row42 col0\" >population_internal_migrations_destination_origin_balances_balance_with_catalonia</td>\n",
       "    </tr>\n",
       "    <tr>\n",
       "      <th id=\"T_7c3cd_level0_row43\" class=\"row_heading level0 row43\" >43</th>\n",
       "      <td id=\"T_7c3cd_row43_col0\" class=\"data row43 col0\" >population_internal_migrations_destination_origin_balances_balance_with_spain</td>\n",
       "    </tr>\n",
       "    <tr>\n",
       "      <th id=\"T_7c3cd_level0_row44\" class=\"row_heading level0 row44\" >44</th>\n",
       "      <td id=\"T_7c3cd_row44_col0\" class=\"data row44 col0\" >population_internal_migrations_destination_origin_balances_internal_migratory_net_balance</td>\n",
       "    </tr>\n",
       "    <tr>\n",
       "      <th id=\"T_7c3cd_level0_row45\" class=\"row_heading level0 row45\" >45</th>\n",
       "      <td id=\"T_7c3cd_row45_col0\" class=\"data row45 col0\" >population_external_migrations_external_immigrations_immigrations</td>\n",
       "    </tr>\n",
       "    <tr>\n",
       "      <th id=\"T_7c3cd_level0_row46\" class=\"row_heading level0 row46\" >46</th>\n",
       "      <td id=\"T_7c3cd_row46_col0\" class=\"data row46 col0\" >population_external_migrations_external_emigrations_emigrations</td>\n",
       "    </tr>\n",
       "    <tr>\n",
       "      <th id=\"T_7c3cd_level0_row47\" class=\"row_heading level0 row47\" >47</th>\n",
       "      <td id=\"T_7c3cd_row47_col0\" class=\"data row47 col0\" >population_external_immigrations_by_place_of_origin_rest_of_eu</td>\n",
       "    </tr>\n",
       "    <tr>\n",
       "      <th id=\"T_7c3cd_level0_row48\" class=\"row_heading level0 row48\" >48</th>\n",
       "      <td id=\"T_7c3cd_row48_col0\" class=\"data row48 col0\" >population_external_immigrations_by_place_of_origin_rest_of_the_world</td>\n",
       "    </tr>\n",
       "    <tr>\n",
       "      <th id=\"T_7c3cd_level0_row49\" class=\"row_heading level0 row49\" >49</th>\n",
       "      <td id=\"T_7c3cd_row49_col0\" class=\"data row49 col0\" >population_population_growth_2001_2011_growth</td>\n",
       "    </tr>\n",
       "    <tr>\n",
       "      <th id=\"T_7c3cd_level0_row50\" class=\"row_heading level0 row50\" >50</th>\n",
       "      <td id=\"T_7c3cd_row50_col0\" class=\"data row50 col0\" >population_population_growth_2001_2011_growth_annual_average</td>\n",
       "    </tr>\n",
       "    <tr>\n",
       "      <th id=\"T_7c3cd_level0_row51\" class=\"row_heading level0 row51\" >51</th>\n",
       "      <td id=\"T_7c3cd_row51_col0\" class=\"data row51 col0\" >population_population_growth_2001_2011_increase_annual_average</td>\n",
       "    </tr>\n",
       "    <tr>\n",
       "      <th id=\"T_7c3cd_level0_row52\" class=\"row_heading level0 row52\" >52</th>\n",
       "      <td id=\"T_7c3cd_row52_col0\" class=\"data row52 col0\" >population_population_growth_2001_2011_migration_annual_average</td>\n",
       "    </tr>\n",
       "    <tr>\n",
       "      <th id=\"T_7c3cd_level0_row53\" class=\"row_heading level0 row53\" >53</th>\n",
       "      <td id=\"T_7c3cd_row53_col0\" class=\"data row53 col0\" >culture_knowledge_of_catalan_understand</td>\n",
       "    </tr>\n",
       "    <tr>\n",
       "      <th id=\"T_7c3cd_level0_row54\" class=\"row_heading level0 row54\" >54</th>\n",
       "      <td id=\"T_7c3cd_row54_col0\" class=\"data row54 col0\" >culture_knowledge_of_catalan_speak</td>\n",
       "    </tr>\n",
       "    <tr>\n",
       "      <th id=\"T_7c3cd_level0_row55\" class=\"row_heading level0 row55\" >55</th>\n",
       "      <td id=\"T_7c3cd_row55_col0\" class=\"data row55 col0\" >culture_knowledge_of_catalan_read</td>\n",
       "    </tr>\n",
       "    <tr>\n",
       "      <th id=\"T_7c3cd_level0_row56\" class=\"row_heading level0 row56\" >56</th>\n",
       "      <td id=\"T_7c3cd_row56_col0\" class=\"data row56 col0\" >culture_knowledge_of_catalan_write</td>\n",
       "    </tr>\n",
       "    <tr>\n",
       "      <th id=\"T_7c3cd_level0_row57\" class=\"row_heading level0 row57\" >57</th>\n",
       "      <td id=\"T_7c3cd_row57_col0\" class=\"data row57 col0\" >culture_knowledge_of_catalan_total</td>\n",
       "    </tr>\n",
       "    <tr>\n",
       "      <th id=\"T_7c3cd_level0_row58\" class=\"row_heading level0 row58\" >58</th>\n",
       "      <td id=\"T_7c3cd_row58_col0\" class=\"data row58 col0\" >culture_libraries_public</td>\n",
       "    </tr>\n",
       "    <tr>\n",
       "      <th id=\"T_7c3cd_level0_row59\" class=\"row_heading level0 row59\" >59</th>\n",
       "      <td id=\"T_7c3cd_row59_col0\" class=\"data row59 col0\" >culture_libraries_others</td>\n",
       "    </tr>\n",
       "    <tr>\n",
       "      <th id=\"T_7c3cd_level0_row60\" class=\"row_heading level0 row60\" >60</th>\n",
       "      <td id=\"T_7c3cd_row60_col0\" class=\"data row60 col0\" >culture_libraries_total</td>\n",
       "    </tr>\n",
       "    <tr>\n",
       "      <th id=\"T_7c3cd_level0_row61\" class=\"row_heading level0 row61\" >61</th>\n",
       "      <td id=\"T_7c3cd_row61_col0\" class=\"data row61 col0\" >culture_sports_facilities_pavilions</td>\n",
       "    </tr>\n",
       "    <tr>\n",
       "      <th id=\"T_7c3cd_level0_row62\" class=\"row_heading level0 row62\" >62</th>\n",
       "      <td id=\"T_7c3cd_row62_col0\" class=\"data row62 col0\" >culture_sports_facilities_multisport_courts</td>\n",
       "    </tr>\n",
       "    <tr>\n",
       "      <th id=\"T_7c3cd_level0_row63\" class=\"row_heading level0 row63\" >63</th>\n",
       "      <td id=\"T_7c3cd_row63_col0\" class=\"data row63 col0\" >culture_sports_facilities_multisport_fields</td>\n",
       "    </tr>\n",
       "    <tr>\n",
       "      <th id=\"T_7c3cd_level0_row64\" class=\"row_heading level0 row64\" >64</th>\n",
       "      <td id=\"T_7c3cd_row64_col0\" class=\"data row64 col0\" >culture_sports_facilities_sports_halls</td>\n",
       "    </tr>\n",
       "    <tr>\n",
       "      <th id=\"T_7c3cd_level0_row65\" class=\"row_heading level0 row65\" >65</th>\n",
       "      <td id=\"T_7c3cd_row65_col0\" class=\"data row65 col0\" >culture_sports_facilities_indoor_swimming_pools</td>\n",
       "    </tr>\n",
       "    <tr>\n",
       "      <th id=\"T_7c3cd_level0_row66\" class=\"row_heading level0 row66\" >66</th>\n",
       "      <td id=\"T_7c3cd_row66_col0\" class=\"data row66 col0\" >culture_sports_facilities_athelitcs_tracks</td>\n",
       "    </tr>\n",
       "    <tr>\n",
       "      <th id=\"T_7c3cd_level0_row67\" class=\"row_heading level0 row67\" >67</th>\n",
       "      <td id=\"T_7c3cd_row67_col0\" class=\"data row67 col0\" >culture_sports_facilities_other_facilities</td>\n",
       "    </tr>\n",
       "    <tr>\n",
       "      <th id=\"T_7c3cd_level0_row68\" class=\"row_heading level0 row68\" >68</th>\n",
       "      <td id=\"T_7c3cd_row68_col0\" class=\"data row68 col0\" >culture_sports_facilities_total</td>\n",
       "    </tr>\n",
       "    <tr>\n",
       "      <th id=\"T_7c3cd_level0_row69\" class=\"row_heading level0 row69\" >69</th>\n",
       "      <td id=\"T_7c3cd_row69_col0\" class=\"data row69 col0\" >education_level_of_education_attained_primary_education_or_lower</td>\n",
       "    </tr>\n",
       "    <tr>\n",
       "      <th id=\"T_7c3cd_level0_row70\" class=\"row_heading level0 row70\" >70</th>\n",
       "      <td id=\"T_7c3cd_row70_col0\" class=\"data row70 col0\" >education_level_of_education_attained_first_stage_of_secondary_education</td>\n",
       "    </tr>\n",
       "    <tr>\n",
       "      <th id=\"T_7c3cd_level0_row71\" class=\"row_heading level0 row71\" >71</th>\n",
       "      <td id=\"T_7c3cd_row71_col0\" class=\"data row71 col0\" >education_level_of_education_attained_second_stage_of_secondary_education</td>\n",
       "    </tr>\n",
       "    <tr>\n",
       "      <th id=\"T_7c3cd_level0_row72\" class=\"row_heading level0 row72\" >72</th>\n",
       "      <td id=\"T_7c3cd_row72_col0\" class=\"data row72 col0\" >education_level_of_education_attained_higher_education</td>\n",
       "    </tr>\n",
       "    <tr>\n",
       "      <th id=\"T_7c3cd_level0_row73\" class=\"row_heading level0 row73\" >73</th>\n",
       "      <td id=\"T_7c3cd_row73_col0\" class=\"data row73 col0\" >elections_municipal_elections_electors</td>\n",
       "    </tr>\n",
       "    <tr>\n",
       "      <th id=\"T_7c3cd_level0_row74\" class=\"row_heading level0 row74\" >74</th>\n",
       "      <td id=\"T_7c3cd_row74_col0\" class=\"data row74 col0\" >elections_municipal_elections_turnout</td>\n",
       "    </tr>\n",
       "    <tr>\n",
       "      <th id=\"T_7c3cd_level0_row75\" class=\"row_heading level0 row75\" >75</th>\n",
       "      <td id=\"T_7c3cd_row75_col0\" class=\"data row75 col0\" >elections_elections_to_the_parliament_of_catalonia_electors</td>\n",
       "    </tr>\n",
       "    <tr>\n",
       "      <th id=\"T_7c3cd_level0_row76\" class=\"row_heading level0 row76\" >76</th>\n",
       "      <td id=\"T_7c3cd_row76_col0\" class=\"data row76 col0\" >elections_elections_to_the_parliament_of_catalonia_turnout</td>\n",
       "    </tr>\n",
       "    <tr>\n",
       "      <th id=\"T_7c3cd_level0_row77\" class=\"row_heading level0 row77\" >77</th>\n",
       "      <td id=\"T_7c3cd_row77_col0\" class=\"data row77 col0\" >elections_elections_to_the_congress_of_deputies_electors</td>\n",
       "    </tr>\n",
       "    <tr>\n",
       "      <th id=\"T_7c3cd_level0_row78\" class=\"row_heading level0 row78\" >78</th>\n",
       "      <td id=\"T_7c3cd_row78_col0\" class=\"data row78 col0\" >elections_elections_to_the_congress_of_deputies_turnout</td>\n",
       "    </tr>\n",
       "    <tr>\n",
       "      <th id=\"T_7c3cd_level0_row79\" class=\"row_heading level0 row79\" >79</th>\n",
       "      <td id=\"T_7c3cd_row79_col0\" class=\"data row79 col0\" >elections_elections_to_the_european_parliament_turnout</td>\n",
       "    </tr>\n",
       "    <tr>\n",
       "      <th id=\"T_7c3cd_level0_row80\" class=\"row_heading level0 row80\" >80</th>\n",
       "      <td id=\"T_7c3cd_row80_col0\" class=\"data row80 col0\" >elections_elections_to_the_european_parliament_electors</td>\n",
       "    </tr>\n",
       "    <tr>\n",
       "      <th id=\"T_7c3cd_level0_row81\" class=\"row_heading level0 row81\" >81</th>\n",
       "      <td id=\"T_7c3cd_row81_col0\" class=\"data row81 col0\" >labour_contributors_to_social_security_according_to_contributors_s_residence_contributors_to_social_security_according_to_contributors_s_residence_men</td>\n",
       "    </tr>\n",
       "    <tr>\n",
       "      <th id=\"T_7c3cd_level0_row82\" class=\"row_heading level0 row82\" >82</th>\n",
       "      <td id=\"T_7c3cd_row82_col0\" class=\"data row82 col0\" >labour_contributors_to_social_security_according_to_contributors_s_residence_contributors_to_social_security_according_to_contributors_s_residence_women</td>\n",
       "    </tr>\n",
       "    <tr>\n",
       "      <th id=\"T_7c3cd_level0_row83\" class=\"row_heading level0 row83\" >83</th>\n",
       "      <td id=\"T_7c3cd_row83_col0\" class=\"data row83 col0\" >labour_contributors_to_social_security_according_to_contributors_s_residence_contributors_to_social_security_according_to_contributors_s_residence_total</td>\n",
       "    </tr>\n",
       "    <tr>\n",
       "      <th id=\"T_7c3cd_level0_row84\" class=\"row_heading level0 row84\" >84</th>\n",
       "      <td id=\"T_7c3cd_row84_col0\" class=\"data row84 col0\" >labour_affiliations_to_social_security_according_to_contributor_s_residence_affiliations_to_social_security_according_to_contributor_s_residence_total</td>\n",
       "    </tr>\n",
       "    <tr>\n",
       "      <th id=\"T_7c3cd_level0_row85\" class=\"row_heading level0 row85\" >85</th>\n",
       "      <td id=\"T_7c3cd_row85_col0\" class=\"data row85 col0\" >labour_affiliations_to_general_system_according_to_location_of_affilation_by_sectors_industry</td>\n",
       "    </tr>\n",
       "    <tr>\n",
       "      <th id=\"T_7c3cd_level0_row86\" class=\"row_heading level0 row86\" >86</th>\n",
       "      <td id=\"T_7c3cd_row86_col0\" class=\"data row86 col0\" >labour_affiliations_to_general_system_according_to_location_of_affilation_by_sectors_construction</td>\n",
       "    </tr>\n",
       "    <tr>\n",
       "      <th id=\"T_7c3cd_level0_row87\" class=\"row_heading level0 row87\" >87</th>\n",
       "      <td id=\"T_7c3cd_row87_col0\" class=\"data row87 col0\" >labour_affiliations_to_general_system_according_to_location_of_affilation_by_sectors_services</td>\n",
       "    </tr>\n",
       "    <tr>\n",
       "      <th id=\"T_7c3cd_level0_row88\" class=\"row_heading level0 row88\" >88</th>\n",
       "      <td id=\"T_7c3cd_row88_col0\" class=\"data row88 col0\" >labour_affiliations_to_general_system_according_to_location_of_affilation_by_sectors_total</td>\n",
       "    </tr>\n",
       "    <tr>\n",
       "      <th id=\"T_7c3cd_level0_row89\" class=\"row_heading level0 row89\" >89</th>\n",
       "      <td id=\"T_7c3cd_row89_col0\" class=\"data row89 col0\" >labour_affiliations_to_self_employed_system_according_to_location_of_affilation_by_sectors_agriculture</td>\n",
       "    </tr>\n",
       "    <tr>\n",
       "      <th id=\"T_7c3cd_level0_row90\" class=\"row_heading level0 row90\" >90</th>\n",
       "      <td id=\"T_7c3cd_row90_col0\" class=\"data row90 col0\" >labour_affiliations_to_self_employed_system_according_to_location_of_affilation_by_sectors_services</td>\n",
       "    </tr>\n",
       "    <tr>\n",
       "      <th id=\"T_7c3cd_level0_row91\" class=\"row_heading level0 row91\" >91</th>\n",
       "      <td id=\"T_7c3cd_row91_col0\" class=\"data row91 col0\" >labour_affiliations_to_self_employed_system_according_to_location_of_affilation_by_sectors_total</td>\n",
       "    </tr>\n",
       "    <tr>\n",
       "      <th id=\"T_7c3cd_level0_row92\" class=\"row_heading level0 row92\" >92</th>\n",
       "      <td id=\"T_7c3cd_row92_col0\" class=\"data row92 col0\" >labour_affiliations_to_gen_system_according_to_location_of_affilation_s_general_system_according_to_the_location_of_the_affilation_up_to_50_workers</td>\n",
       "    </tr>\n",
       "    <tr>\n",
       "      <th id=\"T_7c3cd_level0_row93\" class=\"row_heading level0 row93\" >93</th>\n",
       "      <td id=\"T_7c3cd_row93_col0\" class=\"data row93 col0\" >labour_affiliations_to_gen_system_according_to_location_of_affilation_s_general_system_according_to_the_location_of_the_affilation_from_51_to_250_workers</td>\n",
       "    </tr>\n",
       "    <tr>\n",
       "      <th id=\"T_7c3cd_level0_row94\" class=\"row_heading level0 row94\" >94</th>\n",
       "      <td id=\"T_7c3cd_row94_col0\" class=\"data row94 col0\" >labour_affiliations_to_gen_system_according_to_location_of_affilation_s_general_system_according_to_the_location_of_the_affilation_from_251_workers_and_over</td>\n",
       "    </tr>\n",
       "    <tr>\n",
       "      <th id=\"T_7c3cd_level0_row95\" class=\"row_heading level0 row95\" >95</th>\n",
       "      <td id=\"T_7c3cd_row95_col0\" class=\"data row95 col0\" >labour_contributory_accounts_of_social_security_contributory_accounts_of_social_security_total</td>\n",
       "    </tr>\n",
       "    <tr>\n",
       "      <th id=\"T_7c3cd_level0_row96\" class=\"row_heading level0 row96\" >96</th>\n",
       "      <td id=\"T_7c3cd_row96_col0\" class=\"data row96 col0\" >labour_contributory_social_security_pensions_total</td>\n",
       "    </tr>\n",
       "    <tr>\n",
       "      <th id=\"T_7c3cd_level0_row97\" class=\"row_heading level0 row97\" >97</th>\n",
       "      <td id=\"T_7c3cd_row97_col0\" class=\"data row97 col0\" >labour_contributory_social_security_pensions_contributory_social_security_pensions_average_pension</td>\n",
       "    </tr>\n",
       "    <tr>\n",
       "      <th id=\"T_7c3cd_level0_row98\" class=\"row_heading level0 row98\" >98</th>\n",
       "      <td id=\"T_7c3cd_row98_col0\" class=\"data row98 col0\" >labour_contributory_social_security_by_sex_men</td>\n",
       "    </tr>\n",
       "    <tr>\n",
       "      <th id=\"T_7c3cd_level0_row99\" class=\"row_heading level0 row99\" >99</th>\n",
       "      <td id=\"T_7c3cd_row99_col0\" class=\"data row99 col0\" >labour_contributory_social_security_by_sex_women</td>\n",
       "    </tr>\n",
       "    <tr>\n",
       "      <th id=\"T_7c3cd_level0_row100\" class=\"row_heading level0 row100\" >100</th>\n",
       "      <td id=\"T_7c3cd_row100_col0\" class=\"data row100 col0\" >labour_contributory_social_security_by_sex_total</td>\n",
       "    </tr>\n",
       "    <tr>\n",
       "      <th id=\"T_7c3cd_level0_row101\" class=\"row_heading level0 row101\" >101</th>\n",
       "      <td id=\"T_7c3cd_row101_col0\" class=\"data row101 col0\" >labour_registered_unemployment_by_sectors_by_sectors_agriculture</td>\n",
       "    </tr>\n",
       "    <tr>\n",
       "      <th id=\"T_7c3cd_level0_row102\" class=\"row_heading level0 row102\" >102</th>\n",
       "      <td id=\"T_7c3cd_row102_col0\" class=\"data row102 col0\" >labour_registered_unemployment_by_sectors_by_sectors_industry</td>\n",
       "    </tr>\n",
       "    <tr>\n",
       "      <th id=\"T_7c3cd_level0_row103\" class=\"row_heading level0 row103\" >103</th>\n",
       "      <td id=\"T_7c3cd_row103_col0\" class=\"data row103 col0\" >labour_registered_unemployment_by_sectors_by_sectors_construction</td>\n",
       "    </tr>\n",
       "    <tr>\n",
       "      <th id=\"T_7c3cd_level0_row104\" class=\"row_heading level0 row104\" >104</th>\n",
       "      <td id=\"T_7c3cd_row104_col0\" class=\"data row104 col0\" >labour_registered_unemployment_by_sectors_by_sectors_services</td>\n",
       "    </tr>\n",
       "    <tr>\n",
       "      <th id=\"T_7c3cd_level0_row105\" class=\"row_heading level0 row105\" >105</th>\n",
       "      <td id=\"T_7c3cd_row105_col0\" class=\"data row105 col0\" >labour_registered_unemployment_by_sectors_registered_unemployment_without_previous_employment</td>\n",
       "    </tr>\n",
       "    <tr>\n",
       "      <th id=\"T_7c3cd_level0_row106\" class=\"row_heading level0 row106\" >106</th>\n",
       "      <td id=\"T_7c3cd_row106_col0\" class=\"data row106 col0\" >labour_registered_unemployment_by_sectors_registered_unemployment_total</td>\n",
       "    </tr>\n",
       "    <tr>\n",
       "      <th id=\"T_7c3cd_level0_row107\" class=\"row_heading level0 row107\" >107</th>\n",
       "      <td id=\"T_7c3cd_row107_col0\" class=\"data row107 col0\" >labour_registered_unemployment_by_sex_by_sex_men</td>\n",
       "    </tr>\n",
       "    <tr>\n",
       "      <th id=\"T_7c3cd_level0_row108\" class=\"row_heading level0 row108\" >108</th>\n",
       "      <td id=\"T_7c3cd_row108_col0\" class=\"data row108 col0\" >labour_registered_unemployment_by_sex_by_sex_women</td>\n",
       "    </tr>\n",
       "    <tr>\n",
       "      <th id=\"T_7c3cd_level0_row109\" class=\"row_heading level0 row109\" >109</th>\n",
       "      <td id=\"T_7c3cd_row109_col0\" class=\"data row109 col0\" >labour_registered_unemployment_by_sex_registered_unemployment_total</td>\n",
       "    </tr>\n",
       "    <tr>\n",
       "      <th id=\"T_7c3cd_level0_row110\" class=\"row_heading level0 row110\" >110</th>\n",
       "      <td id=\"T_7c3cd_row110_col0\" class=\"data row110 col0\" >quality_of_life_type_of_dwellings_main</td>\n",
       "    </tr>\n",
       "    <tr>\n",
       "      <th id=\"T_7c3cd_level0_row111\" class=\"row_heading level0 row111\" >111</th>\n",
       "      <td id=\"T_7c3cd_row111_col0\" class=\"data row111 col0\" >quality_of_life_type_of_dwellings_vacant</td>\n",
       "    </tr>\n",
       "    <tr>\n",
       "      <th id=\"T_7c3cd_level0_row112\" class=\"row_heading level0 row112\" >112</th>\n",
       "      <td id=\"T_7c3cd_row112_col0\" class=\"data row112 col0\" >quality_of_life_type_of_dwellings_total</td>\n",
       "    </tr>\n",
       "    <tr>\n",
       "      <th id=\"T_7c3cd_level0_row113\" class=\"row_heading level0 row113\" >113</th>\n",
       "      <td id=\"T_7c3cd_row113_col0\" class=\"data row113 col0\" >main_aggregates_urban_property_tax_number_of_receipts</td>\n",
       "    </tr>\n",
       "    <tr>\n",
       "      <th id=\"T_7c3cd_level0_row114\" class=\"row_heading level0 row114\" >114</th>\n",
       "      <td id=\"T_7c3cd_row114_col0\" class=\"data row114 col0\" >main_aggregates_urban_property_tax_taxable_base_by_receipt</td>\n",
       "    </tr>\n",
       "    <tr>\n",
       "      <th id=\"T_7c3cd_level0_row115\" class=\"row_heading level0 row115\" >115</th>\n",
       "      <td id=\"T_7c3cd_row115_col0\" class=\"data row115 col0\" >main_aggregates_urban_property_tax_integral_quota_by_receipt</td>\n",
       "    </tr>\n",
       "    <tr>\n",
       "      <th id=\"T_7c3cd_level0_row116\" class=\"row_heading level0 row116\" >116</th>\n",
       "      <td id=\"T_7c3cd_row116_col0\" class=\"data row116 col0\" >main_aggregates_personal_taxable_base_by_declarer</td>\n",
       "    </tr>\n",
       "    <tr>\n",
       "      <th id=\"T_7c3cd_level0_row117\" class=\"row_heading level0 row117\" >117</th>\n",
       "      <td id=\"T_7c3cd_row117_col0\" class=\"data row117 col0\" >main_aggregates_personal_resulting_quota_from_self_payment_by_declarer</td>\n",
       "    </tr>\n",
       "    <tr>\n",
       "      <th id=\"T_7c3cd_level0_row118\" class=\"row_heading level0 row118\" >118</th>\n",
       "      <td id=\"T_7c3cd_row118_col0\" class=\"data row118 col0\" >economic_sectors_used_agricultural_area_cultivated_land</td>\n",
       "    </tr>\n",
       "    <tr>\n",
       "      <th id=\"T_7c3cd_level0_row119\" class=\"row_heading level0 row119\" >119</th>\n",
       "      <td id=\"T_7c3cd_row119_col0\" class=\"data row119 col0\" >economic_sectors_used_agricultural_area_permanent_pasture</td>\n",
       "    </tr>\n",
       "    <tr>\n",
       "      <th id=\"T_7c3cd_level0_row120\" class=\"row_heading level0 row120\" >120</th>\n",
       "      <td id=\"T_7c3cd_row120_col0\" class=\"data row120 col0\" >economic_sectors_used_agricultural_area_total</td>\n",
       "    </tr>\n",
       "    <tr>\n",
       "      <th id=\"T_7c3cd_level0_row121\" class=\"row_heading level0 row121\" >121</th>\n",
       "      <td id=\"T_7c3cd_row121_col0\" class=\"data row121 col0\" >economic_sectors_cultivated_land_herbaceous_crops</td>\n",
       "    </tr>\n",
       "    <tr>\n",
       "      <th id=\"T_7c3cd_level0_row122\" class=\"row_heading level0 row122\" >122</th>\n",
       "      <td id=\"T_7c3cd_row122_col0\" class=\"data row122 col0\" >economic_sectors_cultivated_land_fruit_trees</td>\n",
       "    </tr>\n",
       "    <tr>\n",
       "      <th id=\"T_7c3cd_level0_row123\" class=\"row_heading level0 row123\" >123</th>\n",
       "      <td id=\"T_7c3cd_row123_col0\" class=\"data row123 col0\" >economic_sectors_cultivated_land_olives</td>\n",
       "    </tr>\n",
       "    <tr>\n",
       "      <th id=\"T_7c3cd_level0_row124\" class=\"row_heading level0 row124\" >124</th>\n",
       "      <td id=\"T_7c3cd_row124_col0\" class=\"data row124 col0\" >economic_sectors_cultivated_land_vines</td>\n",
       "    </tr>\n",
       "    <tr>\n",
       "      <th id=\"T_7c3cd_level0_row125\" class=\"row_heading level0 row125\" >125</th>\n",
       "      <td id=\"T_7c3cd_row125_col0\" class=\"data row125 col0\" >economic_sectors_cultivated_land_others</td>\n",
       "    </tr>\n",
       "    <tr>\n",
       "      <th id=\"T_7c3cd_level0_row126\" class=\"row_heading level0 row126\" >126</th>\n",
       "      <td id=\"T_7c3cd_row126_col0\" class=\"data row126 col0\" >economic_sectors_cultivated_land_total</td>\n",
       "    </tr>\n",
       "    <tr>\n",
       "      <th id=\"T_7c3cd_level0_row127\" class=\"row_heading level0 row127\" >127</th>\n",
       "      <td id=\"T_7c3cd_row127_col0\" class=\"data row127 col0\" >economic_sectors_land_ownership_without_land</td>\n",
       "    </tr>\n",
       "    <tr>\n",
       "      <th id=\"T_7c3cd_level0_row128\" class=\"row_heading level0 row128\" >128</th>\n",
       "      <td id=\"T_7c3cd_row128_col0\" class=\"data row128 col0\" >economic_sectors_land_ownership_with_land</td>\n",
       "    </tr>\n",
       "    <tr>\n",
       "      <th id=\"T_7c3cd_level0_row129\" class=\"row_heading level0 row129\" >129</th>\n",
       "      <td id=\"T_7c3cd_row129_col0\" class=\"data row129 col0\" >economic_sectors_land_ownership_total</td>\n",
       "    </tr>\n",
       "    <tr>\n",
       "      <th id=\"T_7c3cd_level0_row130\" class=\"row_heading level0 row130\" >130</th>\n",
       "      <td id=\"T_7c3cd_row130_col0\" class=\"data row130 col0\" >economic_sectors_livestock_ownership_without_livestock</td>\n",
       "    </tr>\n",
       "    <tr>\n",
       "      <th id=\"T_7c3cd_level0_row131\" class=\"row_heading level0 row131\" >131</th>\n",
       "      <td id=\"T_7c3cd_row131_col0\" class=\"data row131 col0\" >economic_sectors_livestock_ownership_with_livestock</td>\n",
       "    </tr>\n",
       "    <tr>\n",
       "      <th id=\"T_7c3cd_level0_row132\" class=\"row_heading level0 row132\" >132</th>\n",
       "      <td id=\"T_7c3cd_row132_col0\" class=\"data row132 col0\" >economic_sectors_head_of_livestock_bovine</td>\n",
       "    </tr>\n",
       "    <tr>\n",
       "      <th id=\"T_7c3cd_level0_row133\" class=\"row_heading level0 row133\" >133</th>\n",
       "      <td id=\"T_7c3cd_row133_col0\" class=\"data row133 col0\" >economic_sectors_head_of_livestock_ovine</td>\n",
       "    </tr>\n",
       "    <tr>\n",
       "      <th id=\"T_7c3cd_level0_row134\" class=\"row_heading level0 row134\" >134</th>\n",
       "      <td id=\"T_7c3cd_row134_col0\" class=\"data row134 col0\" >economic_sectors_head_of_livestock_caprine</td>\n",
       "    </tr>\n",
       "    <tr>\n",
       "      <th id=\"T_7c3cd_level0_row135\" class=\"row_heading level0 row135\" >135</th>\n",
       "      <td id=\"T_7c3cd_row135_col0\" class=\"data row135 col0\" >economic_sectors_head_of_livestock_porcine</td>\n",
       "    </tr>\n",
       "    <tr>\n",
       "      <th id=\"T_7c3cd_level0_row136\" class=\"row_heading level0 row136\" >136</th>\n",
       "      <td id=\"T_7c3cd_row136_col0\" class=\"data row136 col0\" >economic_sectors_head_of_livestock_avian</td>\n",
       "    </tr>\n",
       "    <tr>\n",
       "      <th id=\"T_7c3cd_level0_row137\" class=\"row_heading level0 row137\" >137</th>\n",
       "      <td id=\"T_7c3cd_row137_col0\" class=\"data row137 col0\" >economic_sectors_head_of_livestock_female_rabbits</td>\n",
       "    </tr>\n",
       "    <tr>\n",
       "      <th id=\"T_7c3cd_level0_row138\" class=\"row_heading level0 row138\" >138</th>\n",
       "      <td id=\"T_7c3cd_row138_col0\" class=\"data row138 col0\" >economic_sectors_head_of_livestock_equine</td>\n",
       "    </tr>\n",
       "    <tr>\n",
       "      <th id=\"T_7c3cd_level0_row139\" class=\"row_heading level0 row139\" >139</th>\n",
       "      <td id=\"T_7c3cd_row139_col0\" class=\"data row139 col0\" >economic_sectors_housing_construction_state_subsidised_housing_starts</td>\n",
       "    </tr>\n",
       "    <tr>\n",
       "      <th id=\"T_7c3cd_level0_row140\" class=\"row_heading level0 row140\" >140</th>\n",
       "      <td id=\"T_7c3cd_row140_col0\" class=\"data row140 col0\" >economic_sectors_housing_construction_housing_starts</td>\n",
       "    </tr>\n",
       "    <tr>\n",
       "      <th id=\"T_7c3cd_level0_row141\" class=\"row_heading level0 row141\" >141</th>\n",
       "      <td id=\"T_7c3cd_row141_col0\" class=\"data row141 col0\" >economic_sectors_tourist_accommodation_hotels</td>\n",
       "    </tr>\n",
       "    <tr>\n",
       "      <th id=\"T_7c3cd_level0_row142\" class=\"row_heading level0 row142\" >142</th>\n",
       "      <td id=\"T_7c3cd_row142_col0\" class=\"data row142 col0\" >economic_sectors_tourist_accommodation_hotel_beds</td>\n",
       "    </tr>\n",
       "    <tr>\n",
       "      <th id=\"T_7c3cd_level0_row143\" class=\"row_heading level0 row143\" >143</th>\n",
       "      <td id=\"T_7c3cd_row143_col0\" class=\"data row143 col0\" >economic_sectors_tourist_accommodation_campsites</td>\n",
       "    </tr>\n",
       "    <tr>\n",
       "      <th id=\"T_7c3cd_level0_row144\" class=\"row_heading level0 row144\" >144</th>\n",
       "      <td id=\"T_7c3cd_row144_col0\" class=\"data row144 col0\" >economic_sectors_tourist_accommodation_campsite_places</td>\n",
       "    </tr>\n",
       "    <tr>\n",
       "      <th id=\"T_7c3cd_level0_row145\" class=\"row_heading level0 row145\" >145</th>\n",
       "      <td id=\"T_7c3cd_row145_col0\" class=\"data row145 col0\" >economic_sectors_tourist_accommodation_rural_tourism</td>\n",
       "    </tr>\n",
       "    <tr>\n",
       "      <th id=\"T_7c3cd_level0_row146\" class=\"row_heading level0 row146\" >146</th>\n",
       "      <td id=\"T_7c3cd_row146_col0\" class=\"data row146 col0\" >economic_sectors_tourist_accommodation_rural_tourism_beds</td>\n",
       "    </tr>\n",
       "    <tr>\n",
       "      <th id=\"T_7c3cd_level0_row147\" class=\"row_heading level0 row147\" >147</th>\n",
       "      <td id=\"T_7c3cd_row147_col0\" class=\"data row147 col0\" >economic_sectors_fleet_of_vehicles_estate_cars</td>\n",
       "    </tr>\n",
       "    <tr>\n",
       "      <th id=\"T_7c3cd_level0_row148\" class=\"row_heading level0 row148\" >148</th>\n",
       "      <td id=\"T_7c3cd_row148_col0\" class=\"data row148 col0\" >economic_sectors_fleet_of_vehicles_motorcycles</td>\n",
       "    </tr>\n",
       "    <tr>\n",
       "      <th id=\"T_7c3cd_level0_row149\" class=\"row_heading level0 row149\" >149</th>\n",
       "      <td id=\"T_7c3cd_row149_col0\" class=\"data row149 col0\" >economic_sectors_fleet_of_vehicles_industrial_vehicles</td>\n",
       "    </tr>\n",
       "    <tr>\n",
       "      <th id=\"T_7c3cd_level0_row150\" class=\"row_heading level0 row150\" >150</th>\n",
       "      <td id=\"T_7c3cd_row150_col0\" class=\"data row150 col0\" >economic_sectors_fleet_of_vehicles_others</td>\n",
       "    </tr>\n",
       "    <tr>\n",
       "      <th id=\"T_7c3cd_level0_row151\" class=\"row_heading level0 row151\" >151</th>\n",
       "      <td id=\"T_7c3cd_row151_col0\" class=\"data row151 col0\" >economic_sectors_fleet_of_vehicles_total</td>\n",
       "    </tr>\n",
       "    <tr>\n",
       "      <th id=\"T_7c3cd_level0_row152\" class=\"row_heading level0 row152\" >152</th>\n",
       "      <td id=\"T_7c3cd_row152_col0\" class=\"data row152 col0\" >environment_municipal_waste_generation_per_capita</td>\n",
       "    </tr>\n",
       "    <tr>\n",
       "      <th id=\"T_7c3cd_level0_row153\" class=\"row_heading level0 row153\" >153</th>\n",
       "      <td id=\"T_7c3cd_row153_col0\" class=\"data row153 col0\" >environment_municipal_waste_selective_collection</td>\n",
       "    </tr>\n",
       "    <tr>\n",
       "      <th id=\"T_7c3cd_level0_row154\" class=\"row_heading level0 row154\" >154</th>\n",
       "      <td id=\"T_7c3cd_row154_col0\" class=\"data row154 col0\" >environment_industrial_waste_establishments_with_yearly_waste_declarations</td>\n",
       "    </tr>\n",
       "    <tr>\n",
       "      <th id=\"T_7c3cd_level0_row155\" class=\"row_heading level0 row155\" >155</th>\n",
       "      <td id=\"T_7c3cd_row155_col0\" class=\"data row155 col0\" >environment_industrial_waste_industrial_waste</td>\n",
       "    </tr>\n",
       "    <tr>\n",
       "      <th id=\"T_7c3cd_level0_row156\" class=\"row_heading level0 row156\" >156</th>\n",
       "      <td id=\"T_7c3cd_row156_col0\" class=\"data row156 col0\" >quality_of_life_type_of_dwellings_secondary</td>\n",
       "    </tr>\n",
       "    <tr>\n",
       "      <th id=\"T_7c3cd_level0_row157\" class=\"row_heading level0 row157\" >157</th>\n",
       "      <td id=\"T_7c3cd_row157_col0\" class=\"data row157 col0\" >economic_sectors_head_of_livestock_main</td>\n",
       "    </tr>\n",
       "    <tr>\n",
       "      <th id=\"T_7c3cd_level0_row158\" class=\"row_heading level0 row158\" >158</th>\n",
       "      <td id=\"T_7c3cd_row158_col0\" class=\"data row158 col0\" >economic_sectors_cultivated_land_main</td>\n",
       "    </tr>\n",
       "    <tr>\n",
       "      <th id=\"T_7c3cd_level0_row159\" class=\"row_heading level0 row159\" >159</th>\n",
       "      <td id=\"T_7c3cd_row159_col0\" class=\"data row159 col0\" >population_population_by_sex_main</td>\n",
       "    </tr>\n",
       "    <tr>\n",
       "      <th id=\"T_7c3cd_level0_row160\" class=\"row_heading level0 row160\" >160</th>\n",
       "      <td id=\"T_7c3cd_row160_col0\" class=\"data row160 col0\" >culture_sports_facilities_main</td>\n",
       "    </tr>\n",
       "    <tr>\n",
       "      <th id=\"T_7c3cd_level0_row161\" class=\"row_heading level0 row161\" >161</th>\n",
       "      <td id=\"T_7c3cd_row161_col0\" class=\"data row161 col0\" >missing_count</td>\n",
       "    </tr>\n",
       "  </tbody>\n",
       "</table>\n"
      ],
      "text/plain": [
       "<pandas.io.formats.style.Styler at 0x7fba861f4ca0>"
      ]
     },
     "execution_count": 191,
     "metadata": {},
     "output_type": "execute_result"
    }
   ],
   "source": [
    "pd.DataFrame({'column_name': clean_data.columns}).style.set_properties(**{'text-align': 'left'})"
   ]
  }
 ],
 "metadata": {
  "interpreter": {
   "hash": "fe5cedfcb5d2ed2fabebe13918fcd224b55eff004bf79e43e1907e8ef83a95e3"
  },
  "kernelspec": {
   "display_name": "Python 3.9.10 ('ml')",
   "language": "python",
   "name": "python3"
  },
  "language_info": {
   "codemirror_mode": {
    "name": "ipython",
    "version": 3
   },
   "file_extension": ".py",
   "mimetype": "text/x-python",
   "name": "python",
   "nbconvert_exporter": "python",
   "pygments_lexer": "ipython3",
   "version": "3.9.10"
  },
  "orig_nbformat": 4
 },
 "nbformat": 4,
 "nbformat_minor": 2
}
